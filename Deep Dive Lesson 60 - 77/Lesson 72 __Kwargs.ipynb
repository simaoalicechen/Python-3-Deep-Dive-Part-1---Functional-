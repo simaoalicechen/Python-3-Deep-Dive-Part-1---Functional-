{
 "cells": [
  {
   "cell_type": "code",
   "execution_count": null,
   "metadata": {},
   "outputs": [],
   "source": [
    "'''\n",
    "** Keyward Arguments \n",
    "*args is used to scoop up variable amount of remaining positional arguments -----> tuple \n",
    "The parameter name args is arbitrary --- * is the real performer here \n",
    "\n",
    "**kawrgs is used to scoop up a variable amount of remaining keyword arguments ------> Dictionary \n",
    "The parameter name kwargs is arbitrary - ** is the real performer here \n",
    "\n",
    "**kwargs can be specified even if the positional arguments have not been exhausted (unlike keyword-only arguments)\n",
    "No parameters can come after **kwargs \n",
    "\n",
    "Example: \n",
    "\n",
    "def func(*, d, **kwargs): * means the end of positional arguments\n",
    "    # code \n",
    "\n",
    "func(d =1, a = 2, b = 3)      -------> d = 1\n",
    "                                        kwargs = {'a': 2, 'b': 3} \n",
    "func(d=1)                     -------> d = 1\n",
    "def func(**kwargs): \n",
    "    # code \n",
    "func(a=1, b=2, c= 3)  ------> kwargs = {'a': 1, 'b': 2, 'c':3}\n",
    "func()                ------> kwargs = {}\n",
    "\n",
    "def func(*args, **kwargs): \n",
    "    # code \n",
    "\n",
    "func(1,2,a =10, b =20)   ------> args = (1,2)\n",
    "                                 kwargs = {'a':10, 'b': 20}\n",
    "func()                   --------> args = ()      \n",
    "                      -------> kwargs = {}\n",
    "\n",
    "'''"
   ]
  },
  {
   "cell_type": "code",
   "execution_count": 1,
   "metadata": {},
   "outputs": [],
   "source": [
    "def func(**kwargs): \n",
    "    print(kwargs)"
   ]
  },
  {
   "cell_type": "code",
   "execution_count": 2,
   "metadata": {},
   "outputs": [
    {
     "name": "stdout",
     "output_type": "stream",
     "text": [
      "{'a': 1, 'b': 2, 'c': 3}\n"
     ]
    }
   ],
   "source": [
    "func(a=1, b= 2, c=3)"
   ]
  },
  {
   "cell_type": "code",
   "execution_count": 3,
   "metadata": {},
   "outputs": [],
   "source": [
    "def func(*args, **kwargs): \n",
    "    print(args)\n",
    "    print(kwargs)"
   ]
  },
  {
   "cell_type": "code",
   "execution_count": 4,
   "metadata": {},
   "outputs": [
    {
     "ename": "SyntaxError",
     "evalue": "positional argument follows keyword argument (<ipython-input-4-e4ca7d4120be>, line 1)",
     "output_type": "error",
     "traceback": [
      "\u001b[0;36m  File \u001b[0;32m\"<ipython-input-4-e4ca7d4120be>\"\u001b[0;36m, line \u001b[0;32m1\u001b[0m\n\u001b[0;31m    func(1,2,x =100, y =200, 12)\u001b[0m\n\u001b[0m                             ^\u001b[0m\n\u001b[0;31mSyntaxError\u001b[0m\u001b[0;31m:\u001b[0m positional argument follows keyword argument\n"
     ]
    }
   ],
   "source": [
    "func(1,2,x =100, y =200, 12)  # SyntaxError: positional argument follows keyword argument"
   ]
  },
  {
   "cell_type": "code",
   "execution_count": 5,
   "metadata": {},
   "outputs": [
    {
     "name": "stdout",
     "output_type": "stream",
     "text": [
      "(1, 2)\n",
      "{'x': 100, 'y': 200}\n"
     ]
    }
   ],
   "source": [
    "func(1,2,x =100, y =200)"
   ]
  },
  {
   "cell_type": "code",
   "execution_count": 6,
   "metadata": {},
   "outputs": [
    {
     "ename": "SyntaxError",
     "evalue": "named arguments must follow bare * (<ipython-input-6-9cec6d01c49e>, line 1)",
     "output_type": "error",
     "traceback": [
      "\u001b[0;36m  File \u001b[0;32m\"<ipython-input-6-9cec6d01c49e>\"\u001b[0;36m, line \u001b[0;32m1\u001b[0m\n\u001b[0;31m    def func(a,b,*,**kwargs): # **kwargs can't be used after *, only named allowed\u001b[0m\n\u001b[0m                   ^\u001b[0m\n\u001b[0;31mSyntaxError\u001b[0m\u001b[0;31m:\u001b[0m named arguments must follow bare *\n"
     ]
    }
   ],
   "source": [
    "def func(a,b,*,**kwargs): # **kwargs can't be used after *, only named allowed\n",
    "    print(a)\n",
    "    print(b)\n",
    "    print(kwargs)"
   ]
  },
  {
   "cell_type": "code",
   "execution_count": 7,
   "metadata": {},
   "outputs": [],
   "source": [
    "def func(a,b,*,d, **kwargs): # **kwargs can't be used after *, only named allowed\n",
    "    print(a)\n",
    "    print(b)\n",
    "    print(kwargs)"
   ]
  },
  {
   "cell_type": "code",
   "execution_count": 8,
   "metadata": {},
   "outputs": [
    {
     "name": "stdout",
     "output_type": "stream",
     "text": [
      "1\n",
      "2\n",
      "{'x': 100, 'y': 20}\n"
     ]
    }
   ],
   "source": [
    "func(1,2,x =100, y =20, d =20)"
   ]
  },
  {
   "cell_type": "code",
   "execution_count": 9,
   "metadata": {},
   "outputs": [],
   "source": [
    "def func(a,b, **kwargs): \n",
    "    print(a)\n",
    "    print(b)\n",
    "    print(kwargs)"
   ]
  },
  {
   "cell_type": "code",
   "execution_count": 10,
   "metadata": {},
   "outputs": [
    {
     "name": "stdout",
     "output_type": "stream",
     "text": [
      "1\n",
      "2\n",
      "{'x': 100, 'y': 200}\n"
     ]
    }
   ],
   "source": [
    "func(1,2,x =100, y =200)"
   ]
  }
 ],
 "metadata": {
  "kernelspec": {
   "display_name": "Python 3",
   "language": "python",
   "name": "python3"
  },
  "language_info": {
   "codemirror_mode": {
    "name": "ipython",
    "version": 3
   },
   "file_extension": ".py",
   "mimetype": "text/x-python",
   "name": "python",
   "nbconvert_exporter": "python",
   "pygments_lexer": "ipython3",
   "version": "3.8.2"
  }
 },
 "nbformat": 4,
 "nbformat_minor": 4
}
