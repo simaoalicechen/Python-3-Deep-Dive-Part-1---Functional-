{
 "cells": [
  {
   "cell_type": "code",
   "execution_count": null,
   "metadata": {},
   "outputs": [],
   "source": [
    "'''\n",
    "Variable Scopes \n",
    "\n",
    "local scopes\n",
    "global scopes\n",
    "nonlocal scopes \n",
    "nested scopes \n",
    "\n",
    "\n",
    "Closure What they are  They are not equivalent to lambdas!!!!\n",
    "\n",
    "Decorators\n",
    "\n",
    "\n",
    "Decorators What they are\n",
    "how they are related to closures \n",
    "conience of using @\n",
    "\n",
    "\n",
    "Applications \n",
    "\n",
    "'''"
   ]
  }
 ],
 "metadata": {
  "kernelspec": {
   "display_name": "Python 3",
   "language": "python",
   "name": "python3"
  },
  "language_info": {
   "codemirror_mode": {
    "name": "ipython",
    "version": 3
   },
   "file_extension": ".py",
   "mimetype": "text/x-python",
   "name": "python",
   "nbconvert_exporter": "python",
   "pygments_lexer": "ipython3",
   "version": "3.8.2"
  }
 },
 "nbformat": 4,
 "nbformat_minor": 4
}
