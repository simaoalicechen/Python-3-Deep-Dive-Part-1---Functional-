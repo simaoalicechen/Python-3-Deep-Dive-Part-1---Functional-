{
 "cells": [
  {
   "cell_type": "code",
   "execution_count": null,
   "metadata": {},
   "outputs": [],
   "source": [
    "'''\n",
    "First-Class Objectss \n",
    "\n",
    "Can be passed to a function as an argument \n",
    "Can be returned from a function \n",
    "can be asssigned to a variable\n",
    "Can be stored in a data structure (such as  alist, tuple, dictionary, etc.)\n",
    "Types such as int, float, string, tuple, list and many more are first class objects. \n",
    "\n",
    "Functins(fnction) are also first-class objects. \n",
    "\n",
    "\n",
    "Higher-Order Functions \n",
    "\n",
    "Hier-order functions are functions that take a function as an argument (eg, the simple timer we wrote) \n",
    "and/or \n",
    "\n",
    "return a function (plenty of that when we cover decorators in the next section)  \n",
    "\n",
    "Topics in this section: \n",
    "\n",
    "function annotations and documentation \n",
    "lambda expressions and anonymous functions \n",
    "callables \n",
    "function introspection\n",
    "\n",
    "built-in higher order functions, sucn as sorted, map, filter \n",
    "some functions in teh functools module (such as reduce, all, any) \n",
    "partials \n",
    "\n",
    "\n",
    "'''"
   ]
  }
 ],
 "metadata": {
  "kernelspec": {
   "display_name": "Python 3",
   "language": "python",
   "name": "python3"
  },
  "language_info": {
   "codemirror_mode": {
    "name": "ipython",
    "version": 3
   },
   "file_extension": ".py",
   "mimetype": "text/x-python",
   "name": "python",
   "nbconvert_exporter": "python",
   "pygments_lexer": "ipython3",
   "version": "3.8.2"
  }
 },
 "nbformat": 4,
 "nbformat_minor": 4
}
