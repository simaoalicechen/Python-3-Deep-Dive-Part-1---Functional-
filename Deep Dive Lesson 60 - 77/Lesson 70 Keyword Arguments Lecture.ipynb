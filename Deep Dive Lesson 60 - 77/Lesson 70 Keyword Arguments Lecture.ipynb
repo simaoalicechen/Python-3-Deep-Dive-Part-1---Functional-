{
 "cells": [
  {
   "cell_type": "code",
   "execution_count": null,
   "metadata": {},
   "outputs": [],
   "source": [
    "'''\n",
    "Recall that positional parameters can, optionally be passed as named (keyword) arguments: \n",
    "\n",
    "def func(a,b,c): \n",
    "    # code\n",
    "\n",
    "\n",
    "func(1,2,3)  -----> a = 1, b = 2, c = 3\n",
    "func(a = 1, b= 2, c = 3) -----> a = 1, b = 2, c = 3\n",
    "\n",
    "Using named arguments in this case is entirely up to the users. \n",
    "\n",
    "Mandatory Keyword Arugments \n",
    "We can make keyword arguments mandatory. \n",
    "To do so, we create parameters after the positional parameters have been exhausted. \n",
    "\n",
    "def func(a,b, *args, d): \n",
    "    #code\n",
    "    \n",
    "In this case, *args effectively exhausts all positional arguments and d must be passed as a keyword(named) argument \n",
    "func(1,2,'x', 'y', d= 100)\n",
    "------> a = 1, b = 2, args = ('x', 'y'), d = 100\n",
    "func(1,2, d= 100) a = 1, b = 2, args = (), d = 100\n",
    "func(1,2) WRONG PYthon is expecting a keyword argument \n",
    "\n",
    "We can even omit any mandatory positional arguments: \n",
    "def func(*args, d): \n",
    "    # code \n",
    "\n",
    "func(1,2,3,d =100) -----> args = (1,2,3), d =100\n",
    "func(d = 100)   -----> args = (), d =100\n",
    "\n",
    "In fact, we can force no positional arguments at all: \n",
    "\n",
    "def func(*, d): \n",
    "    #code        * indicates the 'end of positional arguments\n",
    "    \n",
    "func(1,2,3,d=100)   EXCEPTION WRONG \n",
    "\n",
    "func(d=100) \n",
    "\n",
    "Putting it together / Compare two situations: \n",
    "def func(a, b= 1, *args, d , e=True):                  def func(a, b =1, *, d, e=True): \n",
    "    # code                                                 #code\n",
    "\n",
    "In both scenarios: \n",
    "a: mandatory positioanl argument (may be specified using anamed argument )\n",
    "b: optional positional argument (may be specified positioanlly, as a named argument, or not at all), defaults to 1 \n",
    "\n",
    "args: catch all for any (optional)                     *: no additional positional arguemnts allowed \n",
    "additional positional arguments                           \n",
    "\n",
    "d: mandatory keyword argument \n",
    "e: optional keyword argument, defaults to True\n",
    "\n",
    "'''"
   ]
  }
 ],
 "metadata": {
  "kernelspec": {
   "display_name": "Python 3",
   "language": "python",
   "name": "python3"
  },
  "language_info": {
   "codemirror_mode": {
    "name": "ipython",
    "version": 3
   },
   "file_extension": ".py",
   "mimetype": "text/x-python",
   "name": "python",
   "nbconvert_exporter": "python",
   "pygments_lexer": "ipython3",
   "version": "3.8.2"
  }
 },
 "nbformat": 4,
 "nbformat_minor": 4
}
