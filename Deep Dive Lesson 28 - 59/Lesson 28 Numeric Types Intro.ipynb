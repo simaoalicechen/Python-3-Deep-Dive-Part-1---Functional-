{
 "cells": [
  {
   "cell_type": "code",
   "execution_count": null,
   "metadata": {},
   "outputs": [],
   "source": [
    "'''\n",
    "Five main types of numbers:                       Python Type:\n",
    "Integer Numbers[Z] 0, 1,-1,2,-2,3,-3....          int\n",
    "Rational Numbers[Q]   P/Q, p, q are Z, q != 0     fractions.Fraction (module)\n",
    "Real Numbers[R]    0, -1, 0.125, 1/3, pi,......   float \n",
    "                                                  decimal.Decimal\n",
    "Complex Numbers[C] a+bj, a,b in R                 Complex \n",
    "\n",
    "Z in Q in R in C\n",
    "\n",
    "\n",
    "Booleans truth values 0(False), 1(True)           bool\n",
    "(only in Python)    \n",
    "\n",
    "\n",
    "\n",
    "\n",
    "'''"
   ]
  }
 ],
 "metadata": {
  "kernelspec": {
   "display_name": "Python 3",
   "language": "python",
   "name": "python3"
  },
  "language_info": {
   "codemirror_mode": {
    "name": "ipython",
    "version": 3
   },
   "file_extension": ".py",
   "mimetype": "text/x-python",
   "name": "python",
   "nbconvert_exporter": "python",
   "pygments_lexer": "ipython3",
   "version": "3.8.2"
  }
 },
 "nbformat": 4,
 "nbformat_minor": 4
}
