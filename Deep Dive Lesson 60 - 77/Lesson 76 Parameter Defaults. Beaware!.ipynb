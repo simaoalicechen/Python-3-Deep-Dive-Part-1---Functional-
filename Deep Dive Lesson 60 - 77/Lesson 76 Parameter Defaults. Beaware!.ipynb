{
 "cells": [
  {
   "cell_type": "code",
   "execution_count": null,
   "metadata": {},
   "outputs": [],
   "source": [
    "'''\n",
    "What happens at run-time...\n",
    "\n",
    "When a module is loaded: all code is executed immediately \n",
    "\n",
    "Module Code \n",
    "\n",
    "a = 10  The integer object 10 is created and a references it \n",
    "\n",
    "def func(a): The function object is created, and func references it \n",
    "    print(a)\n",
    "    \n",
    "func(a)   The function is executed \n",
    "\n",
    "\n",
    "What about default values? \n",
    "\n",
    "Module Code \n",
    "\n",
    "def func(a):     The function object is created, and func references it \n",
    "    print(a)     The integer object 1- is evaluated/created\n",
    "                 and is assigned as teh default for a \n",
    "    \n",
    "    func()       The function is executed \n",
    "                 By the time this happens, the default value for a has already been evaluated and assigned\n",
    "                 -- it is not re-evaluated when the function is called \n",
    "\n",
    "So what??\n",
    "\n",
    "Consider this: \n",
    "\n",
    "We want to create a function that will write a log entry to the console with a user-specified event date/time. \n",
    "If the user does not supply a date/time, we want to set it to the current date/time. \n",
    "\n",
    "\n",
    "from datetime import datetime \n",
    "\n",
    "def log(msg, *, dt = datetime.utcnow()): \n",
    "    print('{0}:{1}'.format(dt, msg))\n",
    "    \n",
    "log('message 1') -----> a time : message 1 \n",
    "\n",
    "a few minutes later: \n",
    "\n",
    "log('message 2') ------> the date and time is identical with the first one\n",
    "\n",
    "The reason is that the datetime for UTC is an object. It is done when the def runs not when the function is called \n",
    "\n",
    "Which means dt stays the same object. It does not reflect our intention. \n",
    "\n",
    "SOLUTION PATTERN \n",
    "\n",
    "We set a default value for dt to None \n",
    "\n",
    "Inside the function, we test to see if dt is still None \n",
    "\n",
    "If dt is None, set it to the current date/time. \n",
    "\n",
    "Otherwise, use what the caller specified for dt. \n",
    "\n",
    "from datetime import datetime \n",
    "\n",
    "def log(msg, * dt = None): \n",
    "    dt = dt or datetime.utcnow()              ---------------> Recall that this is equivalent to: if not dt: dt = datetime.utcnow()\n",
    "    print('{0}:{1}'.format(dt, msg))\n",
    "    \n",
    "In general, always beware of using amutable object for a callable for an argument default \n",
    "\n",
    "'''"
   ]
  },
  {
   "cell_type": "code",
   "execution_count": 1,
   "metadata": {},
   "outputs": [],
   "source": [
    "from datetime import datetime "
   ]
  },
  {
   "cell_type": "code",
   "execution_count": 2,
   "metadata": {},
   "outputs": [
    {
     "data": {
      "text/plain": [
       "datetime.datetime(2020, 8, 17, 4, 4, 12, 287652)"
      ]
     },
     "execution_count": 2,
     "metadata": {},
     "output_type": "execute_result"
    }
   ],
   "source": [
    "datetime.utcnow()  # find out the string representation "
   ]
  },
  {
   "cell_type": "code",
   "execution_count": 3,
   "metadata": {},
   "outputs": [
    {
     "data": {
      "text/plain": [
       "datetime.datetime(2020, 8, 17, 4, 4, 27, 944995)"
      ]
     },
     "execution_count": 3,
     "metadata": {},
     "output_type": "execute_result"
    }
   ],
   "source": [
    "datetime.utcnow()"
   ]
  },
  {
   "cell_type": "code",
   "execution_count": 4,
   "metadata": {},
   "outputs": [
    {
     "name": "stdout",
     "output_type": "stream",
     "text": [
      "2020-08-17 04:04:40.667616\n"
     ]
    }
   ],
   "source": [
    "print(datetime.utcnow())"
   ]
  },
  {
   "cell_type": "code",
   "execution_count": 14,
   "metadata": {},
   "outputs": [],
   "source": [
    "def log(msg, *, dt = datetime.utcnow()): \n",
    "    print('{0}:{1}'.format(dt, msg))"
   ]
  },
  {
   "cell_type": "code",
   "execution_count": 12,
   "metadata": {},
   "outputs": [
    {
     "name": "stdout",
     "output_type": "stream",
     "text": [
      "2001-01-01 00:00:00.000:message 1\n"
     ]
    }
   ],
   "source": [
    "log('message 1', dt = '2001-01-01 00:00:00.000')"
   ]
  },
  {
   "cell_type": "code",
   "execution_count": 7,
   "metadata": {},
   "outputs": [
    {
     "name": "stdout",
     "output_type": "stream",
     "text": [
      "2020-08-17 04:05:16.059664:message 2\n"
     ]
    }
   ],
   "source": [
    "log('message 2')"
   ]
  },
  {
   "cell_type": "code",
   "execution_count": 10,
   "metadata": {},
   "outputs": [
    {
     "name": "stdout",
     "output_type": "stream",
     "text": [
      "2020-08-17 04:05:16.059664:message 3\n"
     ]
    }
   ],
   "source": [
    "log('message 3') # No time has lapsed!!!!!!! The datetime.utcnow() was evaluated when the function was created and therefore the default value was also created. "
   ]
  },
  {
   "cell_type": "code",
   "execution_count": 9,
   "metadata": {},
   "outputs": [
    {
     "name": "stdout",
     "output_type": "stream",
     "text": [
      "2020-08-17 04:05:16.059664:message 3\n"
     ]
    }
   ],
   "source": [
    "log('message 3')"
   ]
  },
  {
   "cell_type": "code",
   "execution_count": 11,
   "metadata": {},
   "outputs": [
    {
     "name": "stdout",
     "output_type": "stream",
     "text": [
      "2020-08-17 04:05:16.059664:message 3\n"
     ]
    }
   ],
   "source": [
    "log('message 3')"
   ]
  },
  {
   "cell_type": "code",
   "execution_count": 13,
   "metadata": {},
   "outputs": [
    {
     "name": "stdout",
     "output_type": "stream",
     "text": [
      "2020-08-17 04:05:16.059664:message 3\n"
     ]
    }
   ],
   "source": [
    "log('message 3')"
   ]
  },
  {
   "cell_type": "code",
   "execution_count": 15,
   "metadata": {},
   "outputs": [
    {
     "name": "stdout",
     "output_type": "stream",
     "text": [
      "2020-08-17 04:08:55.996310:message 3\n"
     ]
    }
   ],
   "source": [
    "log('message 3')  # This time, the time is different because I just rerun the function creation line!!!!!!!"
   ]
  },
  {
   "cell_type": "code",
   "execution_count": 16,
   "metadata": {},
   "outputs": [],
   "source": [
    "# Therefore, we must fix this problem!!!!!!"
   ]
  },
  {
   "cell_type": "code",
   "execution_count": 20,
   "metadata": {},
   "outputs": [],
   "source": [
    "def log(msg, *, dt = None): # This is the updated function \n",
    "    if not dt: \n",
    "        dt = datetime.utcnow()\n",
    "    print('{0}:{1}'.format(dt, msg))"
   ]
  },
  {
   "cell_type": "code",
   "execution_count": 21,
   "metadata": {},
   "outputs": [
    {
     "name": "stdout",
     "output_type": "stream",
     "text": [
      "2020-08-17:message 1\n"
     ]
    }
   ],
   "source": [
    "log('message 1', dt = '2020-08-17')"
   ]
  },
  {
   "cell_type": "code",
   "execution_count": 22,
   "metadata": {},
   "outputs": [
    {
     "name": "stdout",
     "output_type": "stream",
     "text": [
      "2020-08-17 04:11:34.116682:message 1\n"
     ]
    }
   ],
   "source": [
    "log('message 1')  # The difault value when the function is executed will show up when we do not speficy the time!!!!"
   ]
  },
  {
   "cell_type": "code",
   "execution_count": 23,
   "metadata": {},
   "outputs": [
    {
     "name": "stdout",
     "output_type": "stream",
     "text": [
      "2020-08-17 04:12:21.427862:message 2\n"
     ]
    }
   ],
   "source": [
    "log('message 2')"
   ]
  },
  {
   "cell_type": "code",
   "execution_count": 24,
   "metadata": {},
   "outputs": [
    {
     "name": "stdout",
     "output_type": "stream",
     "text": [
      "2020-08-17 04:12:30.060050:message 2\n"
     ]
    }
   ],
   "source": [
    "log('message 2')"
   ]
  },
  {
   "cell_type": "code",
   "execution_count": 25,
   "metadata": {},
   "outputs": [],
   "source": [
    "def log(msg, *, dt = None): # This is the updated function \n",
    "    dt = dt or datetime.utcnow()\n",
    "#     if not dt: \n",
    "#         dt = datetime.utcnow()\n",
    "    print('{0}:{1}'.format(dt, msg))"
   ]
  },
  {
   "cell_type": "code",
   "execution_count": 26,
   "metadata": {},
   "outputs": [
    {
     "name": "stdout",
     "output_type": "stream",
     "text": [
      "2020-08-17 04:13:59.453603:message 3\n"
     ]
    }
   ],
   "source": [
    "log('message 3', dt = None) # you can specify dt = None "
   ]
  },
  {
   "cell_type": "code",
   "execution_count": 27,
   "metadata": {},
   "outputs": [],
   "source": [
    "my_list = [1,2,3]\n",
    "def func(a = my_list): \n",
    "    print(a)\n",
    "    "
   ]
  },
  {
   "cell_type": "code",
   "execution_count": 28,
   "metadata": {},
   "outputs": [
    {
     "name": "stdout",
     "output_type": "stream",
     "text": [
      "[1, 2, 3]\n"
     ]
    }
   ],
   "source": [
    "func()"
   ]
  },
  {
   "cell_type": "code",
   "execution_count": 29,
   "metadata": {},
   "outputs": [
    {
     "name": "stdout",
     "output_type": "stream",
     "text": [
      "['a', 'b']\n"
     ]
    }
   ],
   "source": [
    "func(['a', 'b'])"
   ]
  },
  {
   "cell_type": "code",
   "execution_count": 30,
   "metadata": {},
   "outputs": [],
   "source": [
    "my_list.append(4)"
   ]
  },
  {
   "cell_type": "code",
   "execution_count": 31,
   "metadata": {},
   "outputs": [
    {
     "data": {
      "text/plain": [
       "[1, 2, 3, 4]"
      ]
     },
     "execution_count": 31,
     "metadata": {},
     "output_type": "execute_result"
    }
   ],
   "source": [
    "my_list"
   ]
  },
  {
   "cell_type": "code",
   "execution_count": 32,
   "metadata": {},
   "outputs": [
    {
     "name": "stdout",
     "output_type": "stream",
     "text": [
      "[1, 2, 3, 4]\n"
     ]
    }
   ],
   "source": [
    "func()  # Another problem where the list can be changed."
   ]
  },
  {
   "cell_type": "code",
   "execution_count": null,
   "metadata": {},
   "outputs": [],
   "source": [
    "# To solve the problem is to change the list to a tuple "
   ]
  },
  {
   "cell_type": "code",
   "execution_count": 36,
   "metadata": {},
   "outputs": [],
   "source": [
    "my_list = (1,2,3)\n",
    "def func(a = my_list): \n",
    "    print(a)"
   ]
  },
  {
   "cell_type": "code",
   "execution_count": 37,
   "metadata": {},
   "outputs": [
    {
     "name": "stdout",
     "output_type": "stream",
     "text": [
      "(1, 2, 3)\n"
     ]
    }
   ],
   "source": [
    "func()"
   ]
  }
 ],
 "metadata": {
  "kernelspec": {
   "display_name": "Python 3",
   "language": "python",
   "name": "python3"
  },
  "language_info": {
   "codemirror_mode": {
    "name": "ipython",
    "version": 3
   },
   "file_extension": ".py",
   "mimetype": "text/x-python",
   "name": "python",
   "nbconvert_exporter": "python",
   "pygments_lexer": "ipython3",
   "version": "3.8.2"
  }
 },
 "nbformat": 4,
 "nbformat_minor": 4
}
