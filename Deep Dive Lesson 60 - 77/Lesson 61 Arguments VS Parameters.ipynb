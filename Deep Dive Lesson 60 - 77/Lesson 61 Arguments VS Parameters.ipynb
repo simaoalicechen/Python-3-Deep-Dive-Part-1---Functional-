{
 "cells": [
  {
   "cell_type": "code",
   "execution_count": null,
   "metadata": {},
   "outputs": [],
   "source": [
    "'''\n",
    "Semantics: \n",
    "\n",
    "def my_func(a, b): \n",
    " # code here \n",
    "\n",
    "In this context, a and b are called parameters of my_func\n",
    "Also note that a and b are variables, local to my_func\n",
    "\n",
    "When we call the function: \n",
    "x = 10\n",
    "y = 'a' \n",
    "\n",
    "my_func(x, y) \n",
    "\n",
    "x and y are called the arguments of my_func. \n",
    "Also note that x and y are passed by reference \n",
    "i.e. the memory addresses of x and y are passed \n",
    "\n",
    "It's okay to mix them but you should know what they really mean at a particular moment. \n",
    "\n",
    "x = 10                           def my_func(a, b): \n",
    "y = 'a'                              # code here\n",
    "my_func(x, y) \n",
    "\n",
    "Module Scope                           Function Scope \n",
    "x and y are memory references        \n",
    "x                                   a\n",
    "\n",
    "y                                   b\n",
    "\n",
    "\n",
    "\n",
    "'''"
   ]
  }
 ],
 "metadata": {
  "kernelspec": {
   "display_name": "Python 3",
   "language": "python",
   "name": "python3"
  },
  "language_info": {
   "codemirror_mode": {
    "name": "ipython",
    "version": 3
   },
   "file_extension": ".py",
   "mimetype": "text/x-python",
   "name": "python",
   "nbconvert_exporter": "python",
   "pygments_lexer": "ipython3",
   "version": "3.8.2"
  }
 },
 "nbformat": 4,
 "nbformat_minor": 4
}
