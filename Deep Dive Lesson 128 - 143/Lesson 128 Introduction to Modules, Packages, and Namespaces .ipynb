{
 "cells": [
  {
   "cell_type": "code",
   "execution_count": null,
   "metadata": {},
   "outputs": [],
   "source": [
    "'''\n",
    "Modules\n",
    "\n",
    "What are modules exatcly? --> objects of type ModuleType\n",
    "\n",
    "How does Python load modules? \n",
    "How to import without the import statement \n",
    "Reloading modules ----> Why we should not do it! \n",
    "\n",
    "Import variants ---> import \n",
    "                     from ... import ...\n",
    "                     from ... import *\n",
    "\n",
    "Misconceptions \n",
    "\n",
    "\n",
    "__main__ \n",
    "\n",
    "in modules \n",
    "as file names \n",
    "\n",
    "Zip Archives \n",
    "\n",
    "Importing from a zip archive \n",
    "\n",
    "zipping an entire Python app \n",
    "\n",
    "creating an executable Python app in bash \n",
    "\n",
    "Pakcages \n",
    "What is a package? \n",
    "\n",
    "Why use them? \n",
    "\n",
    "How is it different from a module? \n",
    "\n",
    "The role of __init__.py files in packages \n",
    "\n",
    "Implicit Namespace Packages Python 3.3+\n",
    "\n",
    "What are they? \n",
    "\n",
    "How do we create and use them? \n",
    "\n",
    "vs. standard packages \n",
    "'''"
   ]
  }
 ],
 "metadata": {
  "kernelspec": {
   "display_name": "Python 3",
   "language": "python",
   "name": "python3"
  },
  "language_info": {
   "codemirror_mode": {
    "name": "ipython",
    "version": 3
   },
   "file_extension": ".py",
   "mimetype": "text/x-python",
   "name": "python",
   "nbconvert_exporter": "python",
   "pygments_lexer": "ipython3",
   "version": "3.8.2"
  }
 },
 "nbformat": 4,
 "nbformat_minor": 4
}
