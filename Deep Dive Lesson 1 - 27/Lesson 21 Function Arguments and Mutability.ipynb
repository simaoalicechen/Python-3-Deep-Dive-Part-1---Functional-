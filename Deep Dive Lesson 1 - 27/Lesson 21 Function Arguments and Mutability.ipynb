{
 "cells": [
  {
   "cell_type": "code",
   "execution_count": null,
   "metadata": {},
   "outputs": [],
   "source": [
    "'''\n",
    "In Python, Strings(str) are immutable objects. \n",
    "Once a string has been created, the contents of the object can never be changed. \n",
    "In this ocde: my_var = 'hello'\n",
    "the only way to modify the 'value' of my_var is to reassign my var to another object \n",
    "my_var change from 'hello' to 'abcd'\n",
    "\n",
    "\n",
    "Immutable objects are safe from unintended side_effects\n",
    "\n",
    "def process(s): \n",
    "    s = s+'world'\n",
    "    return s \n",
    "    \n",
    "my_var = 'hello'\n",
    "process(my_var) is sent to process\n",
    "\n",
    "Scopes: \n",
    "mudule scope\n",
    "my_var -------> Hello \n",
    "\n",
    "process() scope\n",
    "\n",
    "\n",
    "When we want to create the string \"Hello World\", we can't just add 'world' to the 'Hello''s memorry address, it has to\n",
    "be added to a new memory address. The reference of s is going to change, it will point to a new object, \"Hello World\". \n",
    "\n",
    "my_var's address does not change\n",
    "s address changes to a new one. \n",
    "\n",
    "\n",
    "def process(lst): \n",
    "    lst.append(100)\n",
    "\n",
    "my_list = [1,2,3] gets passed to process\n",
    "\n",
    "Scopes, module score my_list points to a new memory address \n",
    "process() scope \n",
    "\n",
    "When adding a new element to a mutable object, the memory address does not change, but the state of the variable has \n",
    "been changed. This is the side effect. \n",
    "\n",
    "Immutable collection objects that contain mutable objects \n",
    "\n",
    "def process(t): \n",
    "    t[0].append(3)\n",
    "\n",
    "my_tuple = ([1,2], 'a') \n",
    "\n",
    "Scope: module score my_tuple: [1,2], 'a' in the smae the address\n",
    "process() scope -----> the same address in [1,2,3], 'a' \n",
    "\n",
    "When the new tuple has the same address but different object. \n",
    "\n",
    "'''"
   ]
  },
  {
   "cell_type": "code",
   "execution_count": 1,
   "metadata": {},
   "outputs": [],
   "source": [
    "def process(s): \n",
    "    print('Initial s # = {0}'.format(id(s)))\n",
    "    s = s + ' World'\n",
    "    print('Final s # = {0}'.format(id(s))) "
   ]
  },
  {
   "cell_type": "code",
   "execution_count": 2,
   "metadata": {},
   "outputs": [
    {
     "name": "stdout",
     "output_type": "stream",
     "text": [
      "my_var # = 4398385584\n"
     ]
    }
   ],
   "source": [
    "my_var = 'hello'\n",
    "print('my_var # = {0}'.format(id(my_var)))"
   ]
  },
  {
   "cell_type": "code",
   "execution_count": 3,
   "metadata": {},
   "outputs": [
    {
     "name": "stdout",
     "output_type": "stream",
     "text": [
      "Initial s # = 4398385584\n",
      "Final s # = 4398386160\n"
     ]
    }
   ],
   "source": [
    "process(my_var) \n",
    "'''\n",
    "The memory address has changed, but my_var address has not changed, because the change only happens \n",
    "inside the function. Since a string is immutable, the final s # changed as the contents of the string changed. This is\n",
    "why immutables are mot reliable than mutables. However, in example three, we use Tuple to make a point that although \n",
    "immutable could not be changed, but the inside mutables can be changed and therefore the mutables can change. \n",
    "'''"
   ]
  },
  {
   "cell_type": "code",
   "execution_count": 4,
   "metadata": {},
   "outputs": [
    {
     "data": {
      "text/plain": [
       "4398385584"
      ]
     },
     "execution_count": 4,
     "metadata": {},
     "output_type": "execute_result"
    }
   ],
   "source": [
    "id(my_var)"
   ]
  },
  {
   "cell_type": "code",
   "execution_count": 5,
   "metadata": {},
   "outputs": [
    {
     "data": {
      "text/plain": [
       "'hello'"
      ]
     },
     "execution_count": 5,
     "metadata": {},
     "output_type": "execute_result"
    }
   ],
   "source": [
    "my_var"
   ]
  },
  {
   "cell_type": "code",
   "execution_count": 6,
   "metadata": {},
   "outputs": [],
   "source": [
    "def modify_list(lst): \n",
    "    print('Initial lst # = {0}'.format(id(lst)))\n",
    "    lst.append(100)\n",
    "    print('Final s # = {0}'.format(id(lst))) "
   ]
  },
  {
   "cell_type": "code",
   "execution_count": 7,
   "metadata": {},
   "outputs": [],
   "source": [
    "my_list = [1,2,3]"
   ]
  },
  {
   "cell_type": "code",
   "execution_count": 8,
   "metadata": {},
   "outputs": [
    {
     "data": {
      "text/plain": [
       "4398440960"
      ]
     },
     "execution_count": 8,
     "metadata": {},
     "output_type": "execute_result"
    }
   ],
   "source": [
    "id(my_list)"
   ]
  },
  {
   "cell_type": "code",
   "execution_count": 9,
   "metadata": {},
   "outputs": [
    {
     "name": "stdout",
     "output_type": "stream",
     "text": [
      "Initial lst # = 4398440960\n",
      "Final s # = 4398440960\n"
     ]
    }
   ],
   "source": [
    "modify_list(my_list) # no memory address has chnaged. The id of the list is still the same, though the contents have been \n",
    "# changed. This is the side effect and this is why it is not safe to use mutable objects. "
   ]
  },
  {
   "cell_type": "code",
   "execution_count": 10,
   "metadata": {},
   "outputs": [
    {
     "data": {
      "text/plain": [
       "4398440960"
      ]
     },
     "execution_count": 10,
     "metadata": {},
     "output_type": "execute_result"
    }
   ],
   "source": [
    "id(my_list)"
   ]
  },
  {
   "cell_type": "code",
   "execution_count": 11,
   "metadata": {},
   "outputs": [
    {
     "data": {
      "text/plain": [
       "[1, 2, 3, 100]"
      ]
     },
     "execution_count": 11,
     "metadata": {},
     "output_type": "execute_result"
    }
   ],
   "source": [
    "my_list"
   ]
  },
  {
   "cell_type": "code",
   "execution_count": 12,
   "metadata": {},
   "outputs": [],
   "source": [
    "def modify_tuple(t): \n",
    "    print('Initial s # = {0}'.format(id(t)))\n",
    "    t[0].append(100)  # Tuples do not have append method, but we assume the first element is a list, which has append method. \n",
    "    print('Final s # = {0}'.format(id(t))) "
   ]
  },
  {
   "cell_type": "code",
   "execution_count": 13,
   "metadata": {},
   "outputs": [],
   "source": [
    "my_tuple = ([1,2], 'a')"
   ]
  },
  {
   "cell_type": "code",
   "execution_count": 14,
   "metadata": {},
   "outputs": [
    {
     "data": {
      "text/plain": [
       "4396767616"
      ]
     },
     "execution_count": 14,
     "metadata": {},
     "output_type": "execute_result"
    }
   ],
   "source": [
    "id(my_tuple)"
   ]
  },
  {
   "cell_type": "code",
   "execution_count": 16,
   "metadata": {},
   "outputs": [
    {
     "name": "stdout",
     "output_type": "stream",
     "text": [
      "Initial s # = 4396767616\n",
      "Final s # = 4396767616\n"
     ]
    }
   ],
   "source": [
    "modify_tuple(my_tuple) # The tuple's memory address is the same even after we change the elements( the first element of the tuple)"
   ]
  },
  {
   "cell_type": "code",
   "execution_count": 17,
   "metadata": {},
   "outputs": [
    {
     "data": {
      "text/plain": [
       "([1, 2, 100], 'a')"
      ]
     },
     "execution_count": 17,
     "metadata": {},
     "output_type": "execute_result"
    }
   ],
   "source": [
    "my_tuple"
   ]
  },
  {
   "cell_type": "code",
   "execution_count": null,
   "metadata": {},
   "outputs": [],
   "source": []
  }
 ],
 "metadata": {
  "kernelspec": {
   "display_name": "Python 3",
   "language": "python",
   "name": "python3"
  },
  "language_info": {
   "codemirror_mode": {
    "name": "ipython",
    "version": 3
   },
   "file_extension": ".py",
   "mimetype": "text/x-python",
   "name": "python",
   "nbconvert_exporter": "python",
   "pygments_lexer": "ipython3",
   "version": "3.8.2"
  }
 },
 "nbformat": 4,
 "nbformat_minor": 4
}
