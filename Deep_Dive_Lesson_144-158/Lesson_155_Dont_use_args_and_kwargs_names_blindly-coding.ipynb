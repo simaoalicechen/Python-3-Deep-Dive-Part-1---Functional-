{
 "cells": [
  {
   "cell_type": "code",
   "execution_count": 5,
   "metadata": {},
   "outputs": [],
   "source": [
    "def audit(f): \n",
    "    def inner(*args, **kwargs): \n",
    "        print(f'Called {f.__name__}')\n",
    "        return f(*args, **kwargs)\n",
    "    return inner"
   ]
  },
  {
   "cell_type": "code",
   "execution_count": 6,
   "metadata": {},
   "outputs": [],
   "source": [
    "@audit \n",
    "def say_hello(name): #args\n",
    "    return f'Hello {name}' #args\n",
    "\n",
    "from operator import mul \n",
    "from functools import reduce \n",
    "\n",
    "@audit \n",
    "def product(*values): \n",
    "    return reduce(mul, values)"
   ]
  },
  {
   "cell_type": "code",
   "execution_count": 7,
   "metadata": {},
   "outputs": [
    {
     "name": "stdout",
     "output_type": "stream",
     "text": [
      "Called say_hello\n"
     ]
    },
    {
     "data": {
      "text/plain": [
       "'Hello Polly'"
      ]
     },
     "execution_count": 7,
     "metadata": {},
     "output_type": "execute_result"
    }
   ],
   "source": [
    "say_hello(name = 'Polly')"
   ]
  },
  {
   "cell_type": "code",
   "execution_count": 9,
   "metadata": {},
   "outputs": [
    {
     "name": "stdout",
     "output_type": "stream",
     "text": [
      "Called product\n"
     ]
    },
    {
     "data": {
      "text/plain": [
       "120"
      ]
     },
     "execution_count": 9,
     "metadata": {},
     "output_type": "execute_result"
    }
   ],
   "source": [
    "product(1,2,3,4,5)"
   ]
  },
  {
   "cell_type": "code",
   "execution_count": 13,
   "metadata": {},
   "outputs": [],
   "source": [
    "class Person: \n",
    "    def __init__(self, name, age, **custom__attributes): # kwargs\n",
    "        self.name = name\n",
    "        self.age = age \n",
    "        for attr_name, attr_value in custom__attributes.items(): \n",
    "            setattr(self, attr_name, attr_value)"
   ]
  },
  {
   "cell_type": "code",
   "execution_count": 14,
   "metadata": {},
   "outputs": [],
   "source": [
    "parrot = Person('Polly', 101, status = 'stiff', vooms = False)"
   ]
  },
  {
   "cell_type": "code",
   "execution_count": 15,
   "metadata": {},
   "outputs": [
    {
     "name": "stdout",
     "output_type": "stream",
     "text": [
      "{'name': 'Polly', 'age': 101, 'status': 'stiff', 'vooms': False}\n"
     ]
    }
   ],
   "source": [
    "print(vars(parrot))"
   ]
  },
  {
   "cell_type": "code",
   "execution_count": 19,
   "metadata": {},
   "outputs": [],
   "source": [
    "michael = Person('Palin', 42, role = 'shopkeeper', crooked = True)"
   ]
  },
  {
   "cell_type": "code",
   "execution_count": 21,
   "metadata": {},
   "outputs": [
    {
     "name": "stdout",
     "output_type": "stream",
     "text": [
      "{'name': 'Palin', 'age': 42, 'role': 'shopkeeper', 'crooked': True}\n"
     ]
    }
   ],
   "source": [
    "print(vars(michael))"
   ]
  },
  {
   "cell_type": "code",
   "execution_count": null,
   "metadata": {},
   "outputs": [],
   "source": []
  }
 ],
 "metadata": {
  "kernelspec": {
   "display_name": "Python 3",
   "language": "python",
   "name": "python3"
  },
  "language_info": {
   "codemirror_mode": {
    "name": "ipython",
    "version": 3
   },
   "file_extension": ".py",
   "mimetype": "text/x-python",
   "name": "python",
   "nbconvert_exporter": "python",
   "pygments_lexer": "ipython3",
   "version": "3.8.2"
  }
 },
 "nbformat": 4,
 "nbformat_minor": 4
}
