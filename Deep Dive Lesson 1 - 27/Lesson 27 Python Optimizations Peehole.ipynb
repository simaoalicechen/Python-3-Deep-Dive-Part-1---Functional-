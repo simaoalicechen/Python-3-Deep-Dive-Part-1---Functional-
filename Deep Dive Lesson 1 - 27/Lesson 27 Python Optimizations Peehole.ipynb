{
 "cells": [
  {
   "cell_type": "code",
   "execution_count": null,
   "metadata": {},
   "outputs": [],
   "source": [
    "'''\n",
    "This is another variety of optimizations that can occur at compile time. \n",
    "\n",
    "Constant expressions \n",
    "Numeric Calculations 24*60\n",
    "                     Python will actually pre-calculate 24*60 ---> 1440  \n",
    "\n",
    "short sequences length < 20 \n",
    "                    (1,2)*5 ----> (1,2,1,2,1,2,1,2,1,2,1,2)\n",
    "                    'abc'*3 ----> abcabcabc\n",
    "                    'hello' +'world' -----> hello world \n",
    "                    \n",
    "    but not 'the quick brown fox' * 10      (more than 20 characters) \n",
    "    \n",
    "Membership Tests: Mutables are replaced by Immutables \n",
    "When membership tests such as: \n",
    "if e in [1,2,3]: \n",
    "are encourtered, the [1,2,3] constant, is replaced by its immutable counterpart\n",
    "Therefore it is (1,2,3) tuple\n",
    "\n",
    "lists--->tuples\n",
    "sets--->frozensets \n",
    "\n",
    "Set membership is much faster than list or tuple membership (sets are basically like dictionaries) \n",
    "\n",
    "Therefore replace lists and tuples with sets if things repeat a lot. \n",
    "\n",
    "So, instead of writing: \n",
    "if e in [1,2,3]: or if e in (1,2,3): \n",
    "write if e in {1,2,3}\n",
    "\n",
    "'''"
   ]
  },
  {
   "cell_type": "code",
   "execution_count": 1,
   "metadata": {},
   "outputs": [],
   "source": [
    "def my_func(): \n",
    "    a = 24*60\n",
    "    b = (1,2)*5\n",
    "    c = 'abc'*3\n",
    "    d = 'ab'*11\n",
    "    e = 'the quick brown fox' * 5\n",
    "    f = ['a', 'b'] * 3  # A list is a mutable object and therefore it is not constant and therefore it will not be pre-calculated. "
   ]
  },
  {
   "cell_type": "code",
   "execution_count": 2,
   "metadata": {},
   "outputs": [
    {
     "data": {
      "text/plain": [
       "(None,\n",
       " 1440,\n",
       " (1, 2, 1, 2, 1, 2, 1, 2, 1, 2),\n",
       " 'abcabcabc',\n",
       " 'ababababababababababab',\n",
       " 'the quick brown foxthe quick brown foxthe quick brown foxthe quick brown foxthe quick brown fox',\n",
       " 'a',\n",
       " 'b',\n",
       " 3)"
      ]
     },
     "execution_count": 2,
     "metadata": {},
     "output_type": "execute_result"
    }
   ],
   "source": [
    "my_func.__code__.co_consts # This shows a list of things that have been pre-calculated. "
   ]
  },
  {
   "cell_type": "code",
   "execution_count": 3,
   "metadata": {},
   "outputs": [
    {
     "data": {
      "text/plain": [
       "(None,\n",
       " 1440,\n",
       " (1, 2, 1, 2, 1, 2, 1, 2, 1, 2),\n",
       " 'abcabcabc',\n",
       " 'ababababababababababab',\n",
       " 'the quick brown foxthe quick brown foxthe quick brown foxthe quick brown foxthe quick brown fox',\n",
       " 'a',\n",
       " 'b',\n",
       " 3)"
      ]
     },
     "execution_count": 3,
     "metadata": {},
     "output_type": "execute_result"
    }
   ],
   "source": [
    "my_func.__code__.co_consts "
   ]
  },
  {
   "cell_type": "code",
   "execution_count": 4,
   "metadata": {},
   "outputs": [],
   "source": [
    "def my_func(e): \n",
    "    if e in [1,2,3]: \n",
    "        pass"
   ]
  },
  {
   "cell_type": "code",
   "execution_count": 5,
   "metadata": {},
   "outputs": [
    {
     "data": {
      "text/plain": [
       "(None, (1, 2, 3))"
      ]
     },
     "execution_count": 5,
     "metadata": {},
     "output_type": "execute_result"
    }
   ],
   "source": [
    "my_func.__code__.co_consts # Transfering the mutable to immutable elements"
   ]
  },
  {
   "cell_type": "code",
   "execution_count": 7,
   "metadata": {},
   "outputs": [],
   "source": [
    "def my_func(e): \n",
    "    if e in {1,2,3}: \n",
    "        pass "
   ]
  },
  {
   "cell_type": "code",
   "execution_count": 11,
   "metadata": {},
   "outputs": [
    {
     "data": {
      "text/plain": [
       "(None, (1, 2, 3))"
      ]
     },
     "execution_count": 11,
     "metadata": {},
     "output_type": "execute_result"
    }
   ],
   "source": [
    "my_func.__code__.co_consts"
   ]
  },
  {
   "cell_type": "code",
   "execution_count": 12,
   "metadata": {},
   "outputs": [],
   "source": [
    "import string \n",
    "import time "
   ]
  },
  {
   "cell_type": "code",
   "execution_count": 13,
   "metadata": {},
   "outputs": [
    {
     "data": {
      "text/plain": [
       "'abcdefghijklmnopqrstuvwxyzABCDEFGHIJKLMNOPQRSTUVWXYZ'"
      ]
     },
     "execution_count": 13,
     "metadata": {},
     "output_type": "execute_result"
    }
   ],
   "source": [
    "string.ascii_letters"
   ]
  },
  {
   "cell_type": "code",
   "execution_count": 14,
   "metadata": {},
   "outputs": [],
   "source": [
    "char_list = list(string.ascii_letters) "
   ]
  },
  {
   "cell_type": "code",
   "execution_count": 15,
   "metadata": {},
   "outputs": [],
   "source": [
    "char_tuple = tuple(string.ascii_letters)"
   ]
  },
  {
   "cell_type": "code",
   "execution_count": 16,
   "metadata": {},
   "outputs": [],
   "source": [
    "char_set = set(string.ascii_letters) # Will ignore repeating characters"
   ]
  },
  {
   "cell_type": "code",
   "execution_count": 18,
   "metadata": {},
   "outputs": [
    {
     "name": "stdout",
     "output_type": "stream",
     "text": [
      "['a', 'b', 'c', 'd', 'e', 'f', 'g', 'h', 'i', 'j', 'k', 'l', 'm', 'n', 'o', 'p', 'q', 'r', 's', 't', 'u', 'v', 'w', 'x', 'y', 'z', 'A', 'B', 'C', 'D', 'E', 'F', 'G', 'H', 'I', 'J', 'K', 'L', 'M', 'N', 'O', 'P', 'Q', 'R', 'S', 'T', 'U', 'V', 'W', 'X', 'Y', 'Z']\n"
     ]
    }
   ],
   "source": [
    "print(char_list) # Ordered "
   ]
  },
  {
   "cell_type": "code",
   "execution_count": 19,
   "metadata": {},
   "outputs": [
    {
     "name": "stdout",
     "output_type": "stream",
     "text": [
      "('a', 'b', 'c', 'd', 'e', 'f', 'g', 'h', 'i', 'j', 'k', 'l', 'm', 'n', 'o', 'p', 'q', 'r', 's', 't', 'u', 'v', 'w', 'x', 'y', 'z', 'A', 'B', 'C', 'D', 'E', 'F', 'G', 'H', 'I', 'J', 'K', 'L', 'M', 'N', 'O', 'P', 'Q', 'R', 'S', 'T', 'U', 'V', 'W', 'X', 'Y', 'Z')\n"
     ]
    }
   ],
   "source": [
    "print(char_tuple) # Ordered"
   ]
  },
  {
   "cell_type": "code",
   "execution_count": 20,
   "metadata": {},
   "outputs": [
    {
     "name": "stdout",
     "output_type": "stream",
     "text": [
      "{'b', 'x', 'I', 'e', 'M', 'y', 'u', 'F', 'd', 'Z', 'g', 'A', 'Q', 'K', 'q', 'H', 'p', 'm', 'N', 'Y', 'W', 'X', 'j', 'B', 'C', 'O', 'n', 'S', 'E', 'r', 'R', 'f', 'h', 'J', 'v', 'o', 'w', 'a', 'D', 'i', 't', 'L', 's', 'P', 'z', 'G', 'U', 'V', 'T', 'k', 'c', 'l'}\n"
     ]
    }
   ],
   "source": [
    "print(char_set) # No ordering"
   ]
  },
  {
   "cell_type": "code",
   "execution_count": 21,
   "metadata": {},
   "outputs": [],
   "source": [
    "def membership_test(n, container): \n",
    "    for i in range(n): \n",
    "        if 'z' in container: \n",
    "            pass"
   ]
  },
  {
   "cell_type": "code",
   "execution_count": 22,
   "metadata": {},
   "outputs": [
    {
     "name": "stdout",
     "output_type": "stream",
     "text": [
      "list:  5.256754566999916\n"
     ]
    }
   ],
   "source": [
    "start = time.perf_counter()\n",
    "membership_test(10000000, char_list)\n",
    "end = time.perf_counter()\n",
    "print('list: ', end-start)"
   ]
  },
  {
   "cell_type": "code",
   "execution_count": 23,
   "metadata": {},
   "outputs": [
    {
     "name": "stdout",
     "output_type": "stream",
     "text": [
      "list:  4.9953324079999675\n"
     ]
    }
   ],
   "source": [
    "start = time.perf_counter()\n",
    "membership_test(10000000, char_tuple)\n",
    "end = time.perf_counter()\n",
    "print('list: ', end-start)"
   ]
  },
  {
   "cell_type": "code",
   "execution_count": 24,
   "metadata": {},
   "outputs": [
    {
     "name": "stdout",
     "output_type": "stream",
     "text": [
      "list:  0.4416977289999977\n"
     ]
    }
   ],
   "source": [
    "start = time.perf_counter()                # The most Efficient Whenever you can, prefer to use set membership. \n",
    "membership_test(10000000, char_set)\n",
    "end = time.perf_counter()\n",
    "print('list: ', end-start)"
   ]
  }
 ],
 "metadata": {
  "kernelspec": {
   "display_name": "Python 3",
   "language": "python",
   "name": "python3"
  },
  "language_info": {
   "codemirror_mode": {
    "name": "ipython",
    "version": 3
   },
   "file_extension": ".py",
   "mimetype": "text/x-python",
   "name": "python",
   "nbconvert_exporter": "python",
   "pygments_lexer": "ipython3",
   "version": "3.8.2"
  }
 },
 "nbformat": 4,
 "nbformat_minor": 4
}
