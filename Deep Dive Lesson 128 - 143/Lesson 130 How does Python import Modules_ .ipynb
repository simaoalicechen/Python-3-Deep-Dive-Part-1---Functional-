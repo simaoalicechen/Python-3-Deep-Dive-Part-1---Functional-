{
 "cells": [
  {
   "cell_type": "code",
   "execution_count": null,
   "metadata": {},
   "outputs": [],
   "source": [
    "'''\n",
    "What is Python actually doing? \n",
    "\n",
    "The first thing to note is that Python is doing the import at run time. e.g while your code if actually running \n",
    "This is different from traditional compiled laguages such as C where modules are compiled and linked at compiled time. \n",
    "In both cases though, they system needs to know where thoese code files exist. \n",
    "\n",
    "Python uses a relatively complex system of how to find and load modules. I am not going to even attempt to \n",
    "describe this in detail, but we will take a breif look at the main points. \n",
    "\n",
    "The sys module has a few properties that define where Python is going to llook for modules: \n",
    "(either build-in or standard library as well as our own or 3rd party): \n",
    "\n",
    "import sys \n",
    "Where is Python installed? \n",
    "\n",
    "sys.prefix\n",
    ".........(an address in a file in your computer) \n",
    "\n",
    "Where are te compiled C binaries located? \n",
    "sys.exec_prefix \n",
    "\n",
    ".........(an address in a file in your computer)\n",
    "\n",
    "\n",
    "These two properties are how virtual environments are basically able to wrk with different environments. Python is \n",
    "installed to a different set of directories, and these prefixes are manipulated to reflect the current Python location. \n",
    "\n",
    "Where does Python look for imports? \n",
    "\n",
    "sys.path\n",
    "\n",
    "Basically when we import a modue, Python will search for the module in the paythos contained in sys.path. \n",
    "\n",
    "If it does not find the module in one of those paths, the import will fail. \n",
    "So if you ever run into a problem where Python is not able to import a module or package, you should chekc this first\n",
    "\n",
    "to make sure the path to your module/package is in that list. \n",
    "\n",
    "\n",
    "At a high Level, this si how Python imports a module from file: \n",
    "\n",
    "1. checks the sys.modules cache to see if the module has already been imported - if so it simply uses the\n",
    "in there, otherwise: \n",
    "2. creates a new module object(types.ModuleType)\n",
    "3. loads the source code from file \n",
    "4. adds an entery t osys.modules with name as key and the newly created\n",
    "5. compiles and executes the source code \n",
    "\n",
    "One thing that 's really important to note is that when a module is imported, the module code is executed. \n",
    "\n",
    "Example 1 \n",
    "\n",
    "This example shows that when we importa module, the module code is actully executed. Furthermore, that modue now has its' \n",
    "own namespace that can be seen in __dict__\n",
    "\n",
    "\n",
    "Example 2 \n",
    "\n",
    "In this example, we can see that when we import a module, Python first looks for it in sys.modules. \n",
    "\n",
    "To make the point, we put a key/value pair in sys.modules oursevels and then import it. \n",
    "\n",
    "In fact we put a function in there instead of amodule, and import that. \n",
    "\n",
    "Please Do not do this. Doing this in the course only makes the point that import will first look inthe cahce and immediately just\n",
    "return teh object if the name is found, basically just as if we had written: \n",
    "\n",
    "module = sys.modules['module'] \n",
    "sys.module['test'] = lambda: 'Testing module caching' \n",
    "\n",
    "\n",
    "\n",
    "Example 3a \n",
    "\n",
    "In this example we Look ata  simplied view of how Python imports a module. \n",
    "\n",
    "We use two biult-in functions, compile and exec. \n",
    "\n",
    "The compile function compile source (e.g text) in to a code object. \n",
    "\n",
    "The exet function is used to execute a code object. Toptionally we can specficy what dictionary should be sued\n",
    "to store global symbols. \n",
    "In our case we are going to want to use our module's __dict__. \n",
    "\n",
    "\n",
    "Example 3b \n",
    "\n",
    "This is essentially the same as example 31, except we make our imporster into a function and use it to show how we\n",
    "technically should look for a cached version of the module first. \n",
    "\n",
    "\n",
    "\n",
    "\n",
    "'''"
   ]
  },
  {
   "cell_type": "code",
   "execution_count": 1,
   "metadata": {},
   "outputs": [],
   "source": [
    "import test"
   ]
  },
  {
   "cell_type": "code",
   "execution_count": 2,
   "metadata": {},
   "outputs": [
    {
     "data": {
      "text/plain": [
       "<module 'test' from '/Library/Frameworks/Python.framework/Versions/3.8/lib/python3.8/test/__init__.py'>"
      ]
     },
     "execution_count": 2,
     "metadata": {},
     "output_type": "execute_result"
    }
   ],
   "source": [
    "test"
   ]
  },
  {
   "cell_type": "code",
   "execution_count": 3,
   "metadata": {},
   "outputs": [
    {
     "ename": "TypeError",
     "evalue": "'module' object is not callable",
     "output_type": "error",
     "traceback": [
      "\u001b[0;31m---------------------------------------------------------------------------\u001b[0m",
      "\u001b[0;31mTypeError\u001b[0m                                 Traceback (most recent call last)",
      "\u001b[0;32m<ipython-input-3-fbd55f77ab7c>\u001b[0m in \u001b[0;36m<module>\u001b[0;34m\u001b[0m\n\u001b[0;32m----> 1\u001b[0;31m \u001b[0mtest\u001b[0m\u001b[0;34m(\u001b[0m\u001b[0;34m)\u001b[0m\u001b[0;34m\u001b[0m\u001b[0;34m\u001b[0m\u001b[0m\n\u001b[0m",
      "\u001b[0;31mTypeError\u001b[0m: 'module' object is not callable"
     ]
    }
   ],
   "source": [
    "test()"
   ]
  },
  {
   "cell_type": "code",
   "execution_count": null,
   "metadata": {},
   "outputs": [],
   "source": []
  }
 ],
 "metadata": {
  "kernelspec": {
   "display_name": "Python 3",
   "language": "python",
   "name": "python3"
  },
  "language_info": {
   "codemirror_mode": {
    "name": "ipython",
    "version": 3
   },
   "file_extension": ".py",
   "mimetype": "text/x-python",
   "name": "python",
   "nbconvert_exporter": "python",
   "pygments_lexer": "ipython3",
   "version": "3.8.2"
  }
 },
 "nbformat": 4,
 "nbformat_minor": 4
}
