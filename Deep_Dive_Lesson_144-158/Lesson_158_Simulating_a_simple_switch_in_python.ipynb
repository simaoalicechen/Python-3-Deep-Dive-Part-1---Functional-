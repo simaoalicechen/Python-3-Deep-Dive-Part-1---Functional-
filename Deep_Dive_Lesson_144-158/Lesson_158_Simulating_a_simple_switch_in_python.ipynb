{
 "cells": [
  {
   "cell_type": "code",
   "execution_count": 2,
   "metadata": {},
   "outputs": [],
   "source": [
    "# PEP 3103"
   ]
  },
  {
   "cell_type": "code",
   "execution_count": 8,
   "metadata": {},
   "outputs": [],
   "source": [
    "def dow_switch_fn(dow): \n",
    "    if dow == 1: \n",
    "        fn = lambda: print('Monday')\n",
    "    elif dow == 2: \n",
    "        fn = lambda: print('Tuesday')\n",
    "    elif dow == 3: \n",
    "        fn = lambda: print('Wednesday')\n",
    "    elif dow == 4: \n",
    "        fn = lambda: print('Thursday')\n",
    "    elif dow == 5: \n",
    "        fn = lambda: print('Friday')\n",
    "    elif dow == 6: \n",
    "        fn = lambda: print('Saturday')\n",
    "    elif dow == 7: \n",
    "        fn = lambda: print('Sunday')\n",
    "    else: \n",
    "        fn = lambda: print('Invalid day of the week.')\n",
    "        \n",
    "    return fn()"
   ]
  },
  {
   "cell_type": "code",
   "execution_count": 9,
   "metadata": {},
   "outputs": [],
   "source": [
    "# mapping would be much easier, but the point if to write an equivalent switch statement "
   ]
  },
  {
   "cell_type": "code",
   "execution_count": 10,
   "metadata": {},
   "outputs": [
    {
     "name": "stdout",
     "output_type": "stream",
     "text": [
      "Monday\n"
     ]
    }
   ],
   "source": [
    "dow_switch_fn(1)"
   ]
  },
  {
   "cell_type": "code",
   "execution_count": 11,
   "metadata": {},
   "outputs": [
    {
     "name": "stdout",
     "output_type": "stream",
     "text": [
      "Invalid day of the week.\n"
     ]
    }
   ],
   "source": [
    "dow_switch_fn(100)"
   ]
  },
  {
   "cell_type": "code",
   "execution_count": 15,
   "metadata": {},
   "outputs": [],
   "source": [
    "def dow_switch_dict(dow): \n",
    "    dow_dict = {\n",
    "        1: lambda: print('Monday'),\n",
    "        2: lambda: print('Tuesday'),\n",
    "        3: lambda: print('Wednesday'),\n",
    "        4: lambda: print('Thursday'),\n",
    "        5: lambda: print('Friday'),\n",
    "        6: lambda: print('Saturday'),\n",
    "        7: lambda: print('Sunday'),\n",
    "        'default': lambda: print('Invdalid of the week'),\n",
    "    }\n",
    "    \n",
    "    return dow_dict.get(dow, dow_dict['default'])() # so that if the key does \n",
    "# not find the corresponding key in the dict, it will return the value of the default key. "
   ]
  },
  {
   "cell_type": "code",
   "execution_count": 16,
   "metadata": {},
   "outputs": [
    {
     "name": "stdout",
     "output_type": "stream",
     "text": [
      "Monday\n"
     ]
    }
   ],
   "source": [
    "dow_switch_dict(1)"
   ]
  },
  {
   "cell_type": "code",
   "execution_count": 17,
   "metadata": {},
   "outputs": [
    {
     "name": "stdout",
     "output_type": "stream",
     "text": [
      "Tuesday\n"
     ]
    }
   ],
   "source": [
    "dow_switch_dict(2)"
   ]
  },
  {
   "cell_type": "code",
   "execution_count": 18,
   "metadata": {},
   "outputs": [
    {
     "name": "stdout",
     "output_type": "stream",
     "text": [
      "Wednesday\n"
     ]
    }
   ],
   "source": [
    "dow_switch_dict(3)"
   ]
  },
  {
   "cell_type": "code",
   "execution_count": 20,
   "metadata": {},
   "outputs": [
    {
     "name": "stdout",
     "output_type": "stream",
     "text": [
      "Invdalid of the week\n"
     ]
    }
   ],
   "source": [
    "dow_switch_dict(14)"
   ]
  },
  {
   "cell_type": "code",
   "execution_count": 21,
   "metadata": {},
   "outputs": [],
   "source": [
    "def singledispatch(fn): \n",
    "    registry = dict()\n",
    "    registry[object] = fn\n",
    "    \n",
    "    def register(type_): \n",
    "        def inner(fn): \n",
    "            registry[type_] = fn\n",
    "            return fn  # we do this to stack register decorators\n",
    "        return inner \n",
    "    \n",
    "    def decorator(arg): \n",
    "        fn = registry.get(type(arg), registry[object])\n",
    "        return fn(arg)\n",
    "    \n",
    "    decorator.register = register \n",
    "    return decorator"
   ]
  },
  {
   "cell_type": "code",
   "execution_count": 33,
   "metadata": {},
   "outputs": [],
   "source": [
    "def switcher(fn): \n",
    "    registry = dict()\n",
    "    registry['default'] = fn\n",
    "    \n",
    "    def register(case): \n",
    "        def inner(fn): \n",
    "            registry[case] = fn\n",
    "            return fn  # we do this to stack register decorators\n",
    "        return inner \n",
    "    \n",
    "    def decorator(case): \n",
    "        fn = registry.get(case, registry['default'])\n",
    "        return fn()\n",
    "    \n",
    "    decorator.register = register \n",
    "    return decorator"
   ]
  },
  {
   "cell_type": "code",
   "execution_count": 34,
   "metadata": {},
   "outputs": [
    {
     "data": {
      "text/plain": [
       "<function __main__.<lambda>()>"
      ]
     },
     "execution_count": 34,
     "metadata": {},
     "output_type": "execute_result"
    }
   ],
   "source": [
    "@switcher\n",
    "def dow(): \n",
    "    return ('Invalid day of the week')\n",
    "    \n",
    "@dow.register(1)\n",
    "def dow_1(): \n",
    "    return ('Monday')  # long form \n",
    "\n",
    "dow.register(2)(lambda: 'Tuesday') \n",
    "dow.register(3)(lambda: 'Wednesday')  \n",
    "dow.register(4)(lambda: 'Thursday')  \n",
    "dow.register(5)(lambda: 'Friday')  \n",
    "dow.register(6)(lambda: 'Saturday')  \n",
    "dow.register(7)(lambda: 'Sunday')  \n"
   ]
  },
  {
   "cell_type": "code",
   "execution_count": 35,
   "metadata": {},
   "outputs": [
    {
     "data": {
      "text/plain": [
       "'Monday'"
      ]
     },
     "execution_count": 35,
     "metadata": {},
     "output_type": "execute_result"
    }
   ],
   "source": [
    "dow(1)"
   ]
  },
  {
   "cell_type": "code",
   "execution_count": 36,
   "metadata": {},
   "outputs": [
    {
     "data": {
      "text/plain": [
       "'Friday'"
      ]
     },
     "execution_count": 36,
     "metadata": {},
     "output_type": "execute_result"
    }
   ],
   "source": [
    "dow(5)"
   ]
  },
  {
   "cell_type": "code",
   "execution_count": 38,
   "metadata": {},
   "outputs": [
    {
     "data": {
      "text/plain": [
       "<function __main__.switcher.<locals>.decorator(case)>"
      ]
     },
     "execution_count": 38,
     "metadata": {},
     "output_type": "execute_result"
    }
   ],
   "source": [
    "dow"
   ]
  },
  {
   "cell_type": "code",
   "execution_count": null,
   "metadata": {},
   "outputs": [],
   "source": []
  }
 ],
 "metadata": {
  "kernelspec": {
   "display_name": "Python 3",
   "language": "python",
   "name": "python3"
  },
  "language_info": {
   "codemirror_mode": {
    "name": "ipython",
    "version": 3
   },
   "file_extension": ".py",
   "mimetype": "text/x-python",
   "name": "python",
   "nbconvert_exporter": "python",
   "pygments_lexer": "ipython3",
   "version": "3.8.2"
  }
 },
 "nbformat": 4,
 "nbformat_minor": 4
}
