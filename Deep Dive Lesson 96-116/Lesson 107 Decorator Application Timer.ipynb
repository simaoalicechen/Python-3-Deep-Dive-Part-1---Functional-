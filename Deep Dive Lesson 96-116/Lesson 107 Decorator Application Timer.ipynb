{
 "cells": [
  {
   "cell_type": "code",
   "execution_count": 41,
   "metadata": {},
   "outputs": [],
   "source": [
    "def timed(fn): \n",
    "    from time import perf_counter\n",
    "    from functools import wraps \n",
    "    \n",
    "    @wraps(fn)\n",
    "    def inner(*args, **kwargs): \n",
    "        start = perf_counter()\n",
    "        result = fn(*args, **kwargs)\n",
    "        end = perf_counter()\n",
    "        elapsed = end - start\n",
    "        \n",
    "        args_ = [str(a) for a in args] \n",
    "        kwargs_ = ['{0} = {1}'.format(k,v) for (k,v) in kwargs.items()]\n",
    "        all_args = args_ + kwargs_\n",
    "        args_str = ','.join(all_args) \n",
    "        \n",
    "        print('{0}({1}) took {2:.6f}s to run.'.format(fn.__name__, \n",
    "                                                      args_str, \n",
    "                                                      elapsed))\n",
    "        return result \n",
    "    \n",
    "    return inner \n",
    "        "
   ]
  },
  {
   "cell_type": "code",
   "execution_count": 42,
   "metadata": {},
   "outputs": [
    {
     "data": {
      "text/plain": [
       "(1, 1, 2, 3, 5, 8, 13, 21, Ellipsis)"
      ]
     },
     "execution_count": 42,
     "metadata": {},
     "output_type": "execute_result"
    }
   ],
   "source": [
    "1,1,2,3,5,8,13,21, ..."
   ]
  },
  {
   "cell_type": "code",
   "execution_count": null,
   "metadata": {},
   "outputs": [],
   "source": [
    "1. Recursion \n",
    "2. Loop \n",
    "3. Reduce "
   ]
  },
  {
   "cell_type": "code",
   "execution_count": 43,
   "metadata": {},
   "outputs": [],
   "source": [
    "@timed\n",
    "def calc_recursive_fib(n): \n",
    "    if n <= 2: \n",
    "        return 1 \n",
    "    else: \n",
    "        return calc_recursive_fib(n-1) + calc_recursive_fib(n-2)"
   ]
  },
  {
   "cell_type": "code",
   "execution_count": 44,
   "metadata": {},
   "outputs": [
    {
     "name": "stdout",
     "output_type": "stream",
     "text": [
      "calc_recursive_fib(2) took 0.000001s to run.\n",
      "calc_recursive_fib(1) took 0.000001s to run.\n",
      "calc_recursive_fib(3) took 0.000279s to run.\n",
      "calc_recursive_fib(2) took 0.000001s to run.\n",
      "calc_recursive_fib(4) took 0.000340s to run.\n",
      "calc_recursive_fib(2) took 0.000000s to run.\n",
      "calc_recursive_fib(1) took 0.000001s to run.\n",
      "calc_recursive_fib(3) took 0.000058s to run.\n",
      "calc_recursive_fib(5) took 0.000456s to run.\n",
      "calc_recursive_fib(2) took 0.000000s to run.\n",
      "calc_recursive_fib(1) took 0.000000s to run.\n",
      "calc_recursive_fib(3) took 0.000058s to run.\n",
      "calc_recursive_fib(2) took 0.000000s to run.\n",
      "calc_recursive_fib(4) took 0.000116s to run.\n",
      "calc_recursive_fib(6) took 0.000631s to run.\n"
     ]
    },
    {
     "data": {
      "text/plain": [
       "8"
      ]
     },
     "execution_count": 44,
     "metadata": {},
     "output_type": "execute_result"
    }
   ],
   "source": [
    "calc_recursive_fib(6)"
   ]
  },
  {
   "cell_type": "code",
   "execution_count": 47,
   "metadata": {},
   "outputs": [],
   "source": [
    "@timed\n",
    "def fib_recursive(n): \n",
    "    return calc_recursive_fib(n)"
   ]
  },
  {
   "cell_type": "code",
   "execution_count": null,
   "metadata": {},
   "outputs": [],
   "source": [
    "fib_recursive(36)  # Takes about 8 seconds and too slow. Extra calculations make it so slow. Caching may help the situation\n",
    "# and we will learn that later. "
   ]
  },
  {
   "cell_type": "code",
   "execution_count": null,
   "metadata": {},
   "outputs": [],
   "source": [
    "@timed              # Loop version \n",
    "def fib_loop(n): \n",
    "    fib_1 = 1\n",
    "    fib_2 = 1\n",
    "    for i in range(3, n+1): \n",
    "        fib_1, fib_2 = fib_2, fib_1 + fib_2\n",
    "    return fib_2 \n",
    "    "
   ]
  },
  {
   "cell_type": "code",
   "execution_count": null,
   "metadata": {},
   "outputs": [],
   "source": [
    "fib_loop(6)"
   ]
  },
  {
   "cell_type": "code",
   "execution_count": null,
   "metadata": {},
   "outputs": [],
   "source": [
    "fib_loop(36)"
   ]
  },
  {
   "cell_type": "code",
   "execution_count": null,
   "metadata": {},
   "outputs": [],
   "source": [
    "<pre>         # Reduce Version \n",
    "n = 1\n",
    "(1,0) --> (1, 1) result  t[0] = 1\n",
    "\n",
    "\n",
    "n = 2\n",
    "\n",
    "(1,0) --> (1, 1) --> (2, 1) result t[0] = 2\n",
    "\n",
    "\n",
    "n = 3\n",
    "(1,0) --> (1,1) --> (2,1) --> (3,2) result t[0] = 3\n",
    "\n",
    "\n",
    "n = 4\n",
    "(1,0) --> (1,1) --> (2,1) -->(3,2) -->(5,3) result t[0]\n",
    "</pre>"
   ]
  },
  {
   "cell_type": "code",
   "execution_count": null,
   "metadata": {},
   "outputs": [],
   "source": [
    "<pre> \n",
    "previous value = (a,b) \n",
    "new value = (a+b, a)\n",
    "</pre>"
   ]
  },
  {
   "cell_type": "code",
   "execution_count": null,
   "metadata": {},
   "outputs": [],
   "source": [
    "from functools import reduce "
   ]
  },
  {
   "cell_type": "code",
   "execution_count": null,
   "metadata": {},
   "outputs": [],
   "source": [
    "@timed \n",
    "def fib_reduce(n): \n",
    "    initial = (1, 0) \n",
    "    dummy = range(n)\n",
    "    fib_n= reduce(lambda prev, n: (prev[0] + prev[1], prev[0])\n",
    "                  ,dummy\n",
    "                  ,initial )  # n is coming out of dummy \n",
    "    return fib_n[0]"
   ]
  },
  {
   "cell_type": "code",
   "execution_count": null,
   "metadata": {},
   "outputs": [],
   "source": [
    "fib_reduce(35)"
   ]
  },
  {
   "cell_type": "code",
   "execution_count": null,
   "metadata": {},
   "outputs": [],
   "source": [
    "fib_loop(35)  # fib_loop is actually faster than fib_reduce. When the number is really large, it makes a huge difference. \n",
    "# loop is boring but efficient"
   ]
  },
  {
   "cell_type": "code",
   "execution_count": null,
   "metadata": {},
   "outputs": [],
   "source": [
    "for i in range(10): \n",
    "    fib_loop(100)"
   ]
  },
  {
   "cell_type": "code",
   "execution_count": null,
   "metadata": {},
   "outputs": [],
   "source": [
    "for i in rang(100): \n",
    "    print(i)"
   ]
  },
  {
   "cell_type": "code",
   "execution_count": null,
   "metadata": {},
   "outputs": [],
   "source": [
    "def timed(fn, count):   # How to set count automatically? Will solve this problem later. \n",
    "    from time import perf_counter\n",
    "    from functools import wraps \n",
    "    \n",
    "    @wraps(fn)\n",
    "    def inner(*args, **kwargs): \n",
    "        elapsed_total = 0\n",
    "        elapsed_count = 0\n",
    "        \n",
    "        for i in range(count): \n",
    "            print('Running iteration {0}....'.format(i))\n",
    "        \n",
    "            start = perf_counter()\n",
    "            result = fn(*args, **kwargs)\n",
    "            end = perf_counter()\n",
    "            elapsed = end - start\n",
    "            elapsed_total += elapsed \n",
    "            elapsed_count += 1 \n",
    "\n",
    "        args_ = [str(a) for a in args] \n",
    "        kwargs_ = ['{0} = {1}'.format(k,v) for (k,v) in kwargs.items()]\n",
    "        all_args = args_ + kwargs_\n",
    "        args_str = ','.join(all_args) \n",
    "        \n",
    "        elapsed_avg = elapsed_total / elapsed_count \n",
    "        print('{0}({1}) took {2:.6f}s to run.'.format(fn.__name__, \n",
    "                                                      args_str, \n",
    "                                                      elapsed_avg))\n",
    "        return result \n",
    "    \n",
    "    return inner "
   ]
  },
  {
   "cell_type": "code",
   "execution_count": null,
   "metadata": {},
   "outputs": [],
   "source": [
    "@timed \n",
    "def fib_reduce(n): \n",
    "    initial = (1, 0) \n",
    "    dummy = range(n)\n",
    "    fib_n= reduce(lambda prev, n: (prev[0] + prev[1], prev[0])\n",
    "                  ,dummy\n",
    "                  ,initial )  # n is coming out of dummy \n",
    "    return fib_n[0]"
   ]
  },
  {
   "cell_type": "code",
   "execution_count": null,
   "metadata": {},
   "outputs": [],
   "source": [
    "fib_reduce(100)"
   ]
  },
  {
   "cell_type": "code",
   "execution_count": null,
   "metadata": {},
   "outputs": [],
   "source": [
    "def fib_reduce(n): \n",
    "    initial = (1, 0) \n",
    "    dummy = range(n)\n",
    "    fib_n= reduce(lambda prev, n: (prev[0] + prev[1], prev[0])\n",
    "                  ,dummy\n",
    "                  ,initial )  # n is coming out of dummy \n",
    "    return fib_n[0]"
   ]
  },
  {
   "cell_type": "code",
   "execution_count": null,
   "metadata": {},
   "outputs": [],
   "source": [
    "fib_reduce = timed(fib_reduce, 15)  # Then we cannot use the decorator short cut. "
   ]
  },
  {
   "cell_type": "code",
   "execution_count": null,
   "metadata": {},
   "outputs": [],
   "source": [
    "fib_reduce(100)"
   ]
  },
  {
   "cell_type": "code",
   "execution_count": null,
   "metadata": {},
   "outputs": [],
   "source": []
  }
 ],
 "metadata": {
  "kernelspec": {
   "display_name": "Python 3",
   "language": "python",
   "name": "python3"
  },
  "language_info": {
   "codemirror_mode": {
    "name": "ipython",
    "version": 3
   },
   "file_extension": ".py",
   "mimetype": "text/x-python",
   "name": "python",
   "nbconvert_exporter": "python",
   "pygments_lexer": "ipython3",
   "version": "3.8.2"
  }
 },
 "nbformat": 4,
 "nbformat_minor": 4
}
