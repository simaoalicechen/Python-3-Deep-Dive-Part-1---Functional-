{
 "cells": [
  {
   "cell_type": "code",
   "execution_count": null,
   "metadata": {},
   "outputs": [],
   "source": [
    "'''\n",
    "\n",
    "Outline of this section: \n",
    "\n",
    "Argumets VS Parameters\n",
    "POsitional VS Keyword-Only Arguments\n",
    "Optional Arguments via Defaults \n",
    "Unpacking Iterables and Function Arguments \n",
    "Extended Unpacking \n",
    "Variable Number of Positional and Keyword-Only Arguments \n",
    "\n",
    "\n",
    "\n",
    "\n",
    "'''\n"
   ]
  }
 ],
 "metadata": {
  "kernelspec": {
   "display_name": "Python 3",
   "language": "python",
   "name": "python3"
  },
  "language_info": {
   "codemirror_mode": {
    "name": "ipython",
    "version": 3
   },
   "file_extension": ".py",
   "mimetype": "text/x-python",
   "name": "python",
   "nbconvert_exporter": "python",
   "pygments_lexer": "ipython3",
   "version": "3.8.2"
  }
 },
 "nbformat": 4,
 "nbformat_minor": 4
}
