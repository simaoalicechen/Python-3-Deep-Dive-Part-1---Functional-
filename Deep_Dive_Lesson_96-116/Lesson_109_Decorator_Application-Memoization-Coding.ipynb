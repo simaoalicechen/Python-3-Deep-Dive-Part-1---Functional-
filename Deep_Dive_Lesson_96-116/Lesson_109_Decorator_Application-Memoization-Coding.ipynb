{
 "cells": [
  {
   "cell_type": "markdown",
   "metadata": {},
   "source": [
    "## Decorator Application (Memoization)\n",
    "### cheche results\n",
    "### using closure "
   ]
  },
  {
   "cell_type": "code",
   "execution_count": 3,
   "metadata": {},
   "outputs": [],
   "source": [
    "def fib(n): \n",
    "    print('Calculating fib({0})'.format(n))\n",
    "    return 1 if n <3 else fib(n-1) + fib(n-2)"
   ]
  },
  {
   "cell_type": "code",
   "execution_count": 4,
   "metadata": {},
   "outputs": [
    {
     "name": "stdout",
     "output_type": "stream",
     "text": [
      "Calculating fib(10)\n",
      "Calculating fib(9)\n",
      "Calculating fib(8)\n",
      "Calculating fib(7)\n",
      "Calculating fib(6)\n",
      "Calculating fib(5)\n",
      "Calculating fib(4)\n",
      "Calculating fib(3)\n",
      "Calculating fib(2)\n",
      "Calculating fib(1)\n",
      "Calculating fib(2)\n",
      "Calculating fib(3)\n",
      "Calculating fib(2)\n",
      "Calculating fib(1)\n",
      "Calculating fib(4)\n",
      "Calculating fib(3)\n",
      "Calculating fib(2)\n",
      "Calculating fib(1)\n",
      "Calculating fib(2)\n",
      "Calculating fib(5)\n",
      "Calculating fib(4)\n",
      "Calculating fib(3)\n",
      "Calculating fib(2)\n",
      "Calculating fib(1)\n",
      "Calculating fib(2)\n",
      "Calculating fib(3)\n",
      "Calculating fib(2)\n",
      "Calculating fib(1)\n",
      "Calculating fib(6)\n",
      "Calculating fib(5)\n",
      "Calculating fib(4)\n",
      "Calculating fib(3)\n",
      "Calculating fib(2)\n",
      "Calculating fib(1)\n",
      "Calculating fib(2)\n",
      "Calculating fib(3)\n",
      "Calculating fib(2)\n",
      "Calculating fib(1)\n",
      "Calculating fib(4)\n",
      "Calculating fib(3)\n",
      "Calculating fib(2)\n",
      "Calculating fib(1)\n",
      "Calculating fib(2)\n",
      "Calculating fib(7)\n",
      "Calculating fib(6)\n",
      "Calculating fib(5)\n",
      "Calculating fib(4)\n",
      "Calculating fib(3)\n",
      "Calculating fib(2)\n",
      "Calculating fib(1)\n",
      "Calculating fib(2)\n",
      "Calculating fib(3)\n",
      "Calculating fib(2)\n",
      "Calculating fib(1)\n",
      "Calculating fib(4)\n",
      "Calculating fib(3)\n",
      "Calculating fib(2)\n",
      "Calculating fib(1)\n",
      "Calculating fib(2)\n",
      "Calculating fib(5)\n",
      "Calculating fib(4)\n",
      "Calculating fib(3)\n",
      "Calculating fib(2)\n",
      "Calculating fib(1)\n",
      "Calculating fib(2)\n",
      "Calculating fib(3)\n",
      "Calculating fib(2)\n",
      "Calculating fib(1)\n",
      "Calculating fib(8)\n",
      "Calculating fib(7)\n",
      "Calculating fib(6)\n",
      "Calculating fib(5)\n",
      "Calculating fib(4)\n",
      "Calculating fib(3)\n",
      "Calculating fib(2)\n",
      "Calculating fib(1)\n",
      "Calculating fib(2)\n",
      "Calculating fib(3)\n",
      "Calculating fib(2)\n",
      "Calculating fib(1)\n",
      "Calculating fib(4)\n",
      "Calculating fib(3)\n",
      "Calculating fib(2)\n",
      "Calculating fib(1)\n",
      "Calculating fib(2)\n",
      "Calculating fib(5)\n",
      "Calculating fib(4)\n",
      "Calculating fib(3)\n",
      "Calculating fib(2)\n",
      "Calculating fib(1)\n",
      "Calculating fib(2)\n",
      "Calculating fib(3)\n",
      "Calculating fib(2)\n",
      "Calculating fib(1)\n",
      "Calculating fib(6)\n",
      "Calculating fib(5)\n",
      "Calculating fib(4)\n",
      "Calculating fib(3)\n",
      "Calculating fib(2)\n",
      "Calculating fib(1)\n",
      "Calculating fib(2)\n",
      "Calculating fib(3)\n",
      "Calculating fib(2)\n",
      "Calculating fib(1)\n",
      "Calculating fib(4)\n",
      "Calculating fib(3)\n",
      "Calculating fib(2)\n",
      "Calculating fib(1)\n",
      "Calculating fib(2)\n"
     ]
    },
    {
     "data": {
      "text/plain": [
       "55"
      ]
     },
     "execution_count": 4,
     "metadata": {},
     "output_type": "execute_result"
    }
   ],
   "source": [
    "fib(10)"
   ]
  },
  {
   "cell_type": "code",
   "execution_count": 5,
   "metadata": {},
   "outputs": [],
   "source": [
    "# inefficient "
   ]
  },
  {
   "cell_type": "code",
   "execution_count": 9,
   "metadata": {},
   "outputs": [],
   "source": [
    "class Fib: \n",
    "    def __init__(self): \n",
    "        self.cache = {1: 1, 2: 1} \n",
    "    \n",
    "    def fib(self, n): \n",
    "        if n not in self.cache: \n",
    "            print('Calculating fib({0})'.format(n))\n",
    "            self.cache[n] = self.fib(n-1) + self.fib(n-2)\n",
    "        return self.cache[n]"
   ]
  },
  {
   "cell_type": "code",
   "execution_count": 10,
   "metadata": {},
   "outputs": [],
   "source": [
    "f = Fib()"
   ]
  },
  {
   "cell_type": "code",
   "execution_count": 11,
   "metadata": {},
   "outputs": [
    {
     "name": "stdout",
     "output_type": "stream",
     "text": [
      "Calculating fib(10)\n",
      "Calculating fib(9)\n",
      "Calculating fib(8)\n",
      "Calculating fib(7)\n",
      "Calculating fib(6)\n",
      "Calculating fib(5)\n",
      "Calculating fib(4)\n",
      "Calculating fib(3)\n"
     ]
    },
    {
     "data": {
      "text/plain": [
       "55"
      ]
     },
     "execution_count": 11,
     "metadata": {},
     "output_type": "execute_result"
    }
   ],
   "source": [
    "f.fib(10) # 2,1 are already in the cache and won't be recalculated "
   ]
  },
  {
   "cell_type": "code",
   "execution_count": 15,
   "metadata": {},
   "outputs": [],
   "source": [
    "#closure\n",
    "\n",
    "def fib(): \n",
    "    cache = {1:1, 2:1} # precalculated \n",
    "    def calc_fib(n): \n",
    "        if n not in cache: \n",
    "            print('Calculating fib({0})'.format(n))\n",
    "            cache[n] = calc_fib(n-1) + calc_fib(n-2)\n",
    "        return cache[n]\n",
    "    \n",
    "    return calc_fib\n",
    "        "
   ]
  },
  {
   "cell_type": "code",
   "execution_count": 16,
   "metadata": {},
   "outputs": [],
   "source": [
    "f = fib()"
   ]
  },
  {
   "cell_type": "code",
   "execution_count": 17,
   "metadata": {},
   "outputs": [
    {
     "name": "stdout",
     "output_type": "stream",
     "text": [
      "Calculating fib(10)\n",
      "Calculating fib(9)\n",
      "Calculating fib(8)\n",
      "Calculating fib(7)\n",
      "Calculating fib(6)\n",
      "Calculating fib(5)\n",
      "Calculating fib(4)\n",
      "Calculating fib(3)\n"
     ]
    },
    {
     "data": {
      "text/plain": [
       "55"
      ]
     },
     "execution_count": 17,
     "metadata": {},
     "output_type": "execute_result"
    }
   ],
   "source": [
    "f(10)"
   ]
  },
  {
   "cell_type": "code",
   "execution_count": 18,
   "metadata": {},
   "outputs": [],
   "source": [
    "g = Fib()"
   ]
  },
  {
   "cell_type": "code",
   "execution_count": 20,
   "metadata": {},
   "outputs": [
    {
     "name": "stdout",
     "output_type": "stream",
     "text": [
      "Calculating fib(10)\n",
      "Calculating fib(9)\n",
      "Calculating fib(8)\n",
      "Calculating fib(7)\n",
      "Calculating fib(6)\n",
      "Calculating fib(5)\n",
      "Calculating fib(4)\n",
      "Calculating fib(3)\n"
     ]
    },
    {
     "data": {
      "text/plain": [
       "55"
      ]
     },
     "execution_count": 20,
     "metadata": {},
     "output_type": "execute_result"
    }
   ],
   "source": [
    "g.fib(10)"
   ]
  },
  {
   "cell_type": "code",
   "execution_count": 21,
   "metadata": {},
   "outputs": [],
   "source": [
    "g = fib()"
   ]
  },
  {
   "cell_type": "code",
   "execution_count": 22,
   "metadata": {},
   "outputs": [
    {
     "name": "stdout",
     "output_type": "stream",
     "text": [
      "Calculating fib(10)\n",
      "Calculating fib(9)\n",
      "Calculating fib(8)\n",
      "Calculating fib(7)\n",
      "Calculating fib(6)\n",
      "Calculating fib(5)\n",
      "Calculating fib(4)\n",
      "Calculating fib(3)\n"
     ]
    },
    {
     "data": {
      "text/plain": [
       "55"
      ]
     },
     "execution_count": 22,
     "metadata": {},
     "output_type": "execute_result"
    }
   ],
   "source": [
    "g(10)"
   ]
  },
  {
   "cell_type": "code",
   "execution_count": 35,
   "metadata": {},
   "outputs": [],
   "source": [
    "def memoize_fib(fib): \n",
    "    cache = {1:1, 2:1} # precalculated \n",
    "    \n",
    "    \n",
    "    def inner(n): \n",
    "        if n not in cache: \n",
    "#             print('inner - Calculating fib({0})'.format(n))\n",
    "            cache[n] = fib(n)\n",
    "        return cache[n]\n",
    "    \n",
    "    return inner"
   ]
  },
  {
   "cell_type": "code",
   "execution_count": 36,
   "metadata": {},
   "outputs": [],
   "source": [
    "@memoize_fib\n",
    "def fib(n): \n",
    "    print('Calculating fib({0})'.format(n))\n",
    "    return 1 if n <3 else fib(n-1) + fib(n-2)"
   ]
  },
  {
   "cell_type": "code",
   "execution_count": 37,
   "metadata": {},
   "outputs": [
    {
     "name": "stdout",
     "output_type": "stream",
     "text": [
      "Calculating fib(10)\n",
      "Calculating fib(9)\n",
      "Calculating fib(8)\n",
      "Calculating fib(7)\n",
      "Calculating fib(6)\n",
      "Calculating fib(5)\n",
      "Calculating fib(4)\n",
      "Calculating fib(3)\n"
     ]
    },
    {
     "data": {
      "text/plain": [
       "55"
      ]
     },
     "execution_count": 37,
     "metadata": {},
     "output_type": "execute_result"
    }
   ],
   "source": [
    "fib(10)"
   ]
  },
  {
   "cell_type": "code",
   "execution_count": 51,
   "metadata": {},
   "outputs": [],
   "source": [
    "def memoize(fn): \n",
    "    cache = dict()\n",
    "    \n",
    "    \n",
    "    def inner(n): \n",
    "        if n not in cache: \n",
    "            print('inner - Calculating fib({0})'.format(n))\n",
    "            cache[n] = fn(n)\n",
    "        return cache[n]\n",
    "    \n",
    "    return inner"
   ]
  },
  {
   "cell_type": "code",
   "execution_count": 52,
   "metadata": {},
   "outputs": [],
   "source": [
    "@memoize\n",
    "def fib(n): \n",
    "    print('Calculating fib({0})'.format(n))\n",
    "    return 1 if n <3 else fib(n-1) + fib(n-2)"
   ]
  },
  {
   "cell_type": "code",
   "execution_count": 53,
   "metadata": {},
   "outputs": [
    {
     "name": "stdout",
     "output_type": "stream",
     "text": [
      "inner - Calculating fib(10)\n",
      "Calculating fib(10)\n",
      "inner - Calculating fib(9)\n",
      "Calculating fib(9)\n",
      "inner - Calculating fib(8)\n",
      "Calculating fib(8)\n",
      "inner - Calculating fib(7)\n",
      "Calculating fib(7)\n",
      "inner - Calculating fib(6)\n",
      "Calculating fib(6)\n",
      "inner - Calculating fib(5)\n",
      "Calculating fib(5)\n",
      "inner - Calculating fib(4)\n",
      "Calculating fib(4)\n",
      "inner - Calculating fib(3)\n",
      "Calculating fib(3)\n",
      "inner - Calculating fib(2)\n",
      "Calculating fib(2)\n",
      "inner - Calculating fib(1)\n",
      "Calculating fib(1)\n"
     ]
    },
    {
     "data": {
      "text/plain": [
       "55"
      ]
     },
     "execution_count": 53,
     "metadata": {},
     "output_type": "execute_result"
    }
   ],
   "source": [
    "fib(10)"
   ]
  },
  {
   "cell_type": "code",
   "execution_count": 54,
   "metadata": {},
   "outputs": [
    {
     "data": {
      "text/plain": [
       "55"
      ]
     },
     "execution_count": 54,
     "metadata": {},
     "output_type": "execute_result"
    }
   ],
   "source": [
    "fib(10) # already has those in cashe"
   ]
  },
  {
   "cell_type": "code",
   "execution_count": 55,
   "metadata": {},
   "outputs": [
    {
     "name": "stdout",
     "output_type": "stream",
     "text": [
      "inner - Calculating fib(11)\n",
      "Calculating fib(11)\n"
     ]
    },
    {
     "data": {
      "text/plain": [
       "89"
      ]
     },
     "execution_count": 55,
     "metadata": {},
     "output_type": "execute_result"
    }
   ],
   "source": [
    "fib(11) # only calculating 11"
   ]
  },
  {
   "cell_type": "code",
   "execution_count": 61,
   "metadata": {},
   "outputs": [],
   "source": [
    "@memoize \n",
    "def fact(n): \n",
    "    print('Calculating {0}!'.format(n))\n",
    "    return 1 if n < 2 else n*fact(n-1)"
   ]
  },
  {
   "cell_type": "code",
   "execution_count": 62,
   "metadata": {},
   "outputs": [
    {
     "name": "stdout",
     "output_type": "stream",
     "text": [
      "inner - Calculating fib(6)\n",
      "Calculating 6!\n",
      "inner - Calculating fib(5)\n",
      "Calculating 5!\n",
      "inner - Calculating fib(4)\n",
      "Calculating 4!\n",
      "inner - Calculating fib(3)\n",
      "Calculating 3!\n",
      "inner - Calculating fib(2)\n",
      "Calculating 2!\n",
      "inner - Calculating fib(1)\n",
      "Calculating 1!\n"
     ]
    },
    {
     "data": {
      "text/plain": [
       "720"
      ]
     },
     "execution_count": 62,
     "metadata": {},
     "output_type": "execute_result"
    }
   ],
   "source": [
    "fact(6) # had to calculate 5,4,3,2,1"
   ]
  },
  {
   "cell_type": "code",
   "execution_count": 59,
   "metadata": {},
   "outputs": [],
   "source": [
    "@memoize \n",
    "def fact(n): \n",
    "    print('Calculating {0}!'.format(n))\n",
    "    return 1 if n < 2 else n*fact(n-1)"
   ]
  },
  {
   "cell_type": "code",
   "execution_count": 60,
   "metadata": {},
   "outputs": [
    {
     "name": "stdout",
     "output_type": "stream",
     "text": [
      "inner - Calculating fib(6)\n",
      "Calculating 6!\n",
      "inner - Calculating fib(5)\n",
      "Calculating 5!\n",
      "inner - Calculating fib(4)\n",
      "Calculating 4!\n",
      "inner - Calculating fib(3)\n",
      "Calculating 3!\n",
      "inner - Calculating fib(2)\n",
      "Calculating 2!\n",
      "inner - Calculating fib(1)\n",
      "Calculating 1!\n"
     ]
    },
    {
     "data": {
      "text/plain": [
       "720"
      ]
     },
     "execution_count": 60,
     "metadata": {},
     "output_type": "execute_result"
    }
   ],
   "source": [
    "fact(6)"
   ]
  },
  {
   "cell_type": "code",
   "execution_count": 64,
   "metadata": {},
   "outputs": [
    {
     "data": {
      "text/plain": [
       "720"
      ]
     },
     "execution_count": 64,
     "metadata": {},
     "output_type": "execute_result"
    }
   ],
   "source": [
    "fact(6) # if you call it again, everything including 6 is already in cache, so it does not recalculate it. "
   ]
  },
  {
   "cell_type": "code",
   "execution_count": 65,
   "metadata": {},
   "outputs": [
    {
     "name": "stdout",
     "output_type": "stream",
     "text": [
      "inner - Calculating fib(7)\n",
      "Calculating 7!\n"
     ]
    },
    {
     "data": {
      "text/plain": [
       "5040"
      ]
     },
     "execution_count": 65,
     "metadata": {},
     "output_type": "execute_result"
    }
   ],
   "source": [
    "fact(7) # only calculate 7 fact "
   ]
  },
  {
   "cell_type": "code",
   "execution_count": 66,
   "metadata": {},
   "outputs": [],
   "source": [
    "@memoize \n",
    "def fact(n): \n",
    "    print('Calculating {0}!'.format(n))\n",
    "    return 1 if n < 2 else n*fact(n-1)"
   ]
  },
  {
   "cell_type": "code",
   "execution_count": 67,
   "metadata": {},
   "outputs": [
    {
     "name": "stdout",
     "output_type": "stream",
     "text": [
      "inner - Calculating fib(34)\n",
      "Calculating fib(34)\n",
      "inner - Calculating fib(33)\n",
      "Calculating fib(33)\n",
      "inner - Calculating fib(32)\n",
      "Calculating fib(32)\n",
      "inner - Calculating fib(31)\n",
      "Calculating fib(31)\n",
      "inner - Calculating fib(30)\n",
      "Calculating fib(30)\n",
      "inner - Calculating fib(29)\n",
      "Calculating fib(29)\n",
      "inner - Calculating fib(28)\n",
      "Calculating fib(28)\n",
      "inner - Calculating fib(27)\n",
      "Calculating fib(27)\n",
      "inner - Calculating fib(26)\n",
      "Calculating fib(26)\n",
      "inner - Calculating fib(25)\n",
      "Calculating fib(25)\n",
      "inner - Calculating fib(24)\n",
      "Calculating fib(24)\n",
      "inner - Calculating fib(23)\n",
      "Calculating fib(23)\n",
      "inner - Calculating fib(22)\n",
      "Calculating fib(22)\n",
      "inner - Calculating fib(21)\n",
      "Calculating fib(21)\n",
      "inner - Calculating fib(20)\n",
      "Calculating fib(20)\n",
      "inner - Calculating fib(19)\n",
      "Calculating fib(19)\n",
      "inner - Calculating fib(18)\n",
      "Calculating fib(18)\n",
      "inner - Calculating fib(17)\n",
      "Calculating fib(17)\n",
      "inner - Calculating fib(16)\n",
      "Calculating fib(16)\n",
      "inner - Calculating fib(15)\n",
      "Calculating fib(15)\n",
      "inner - Calculating fib(14)\n",
      "Calculating fib(14)\n",
      "inner - Calculating fib(13)\n",
      "Calculating fib(13)\n",
      "inner - Calculating fib(12)\n",
      "Calculating fib(12)\n"
     ]
    },
    {
     "data": {
      "text/plain": [
       "5702887"
      ]
     },
     "execution_count": 67,
     "metadata": {},
     "output_type": "execute_result"
    }
   ],
   "source": [
    "fib(34)"
   ]
  },
  {
   "cell_type": "code",
   "execution_count": 69,
   "metadata": {},
   "outputs": [],
   "source": [
    "@memoize \n",
    "def fact(n): \n",
    "#     print('Calculating {0}!'.format(n))\n",
    "    return 1 if n < 2 else n*fact(n-1)"
   ]
  },
  {
   "cell_type": "code",
   "execution_count": 70,
   "metadata": {},
   "outputs": [
    {
     "name": "stdout",
     "output_type": "stream",
     "text": [
      "inner - Calculating fib(35)\n",
      "Calculating fib(35)\n",
      "0.0001929119998749229\n"
     ]
    }
   ],
   "source": [
    "from time import perf_counter\n",
    "start = perf_counter()\n",
    "fib(35)\n",
    "end = perf_counter()\n",
    "print(end -start)"
   ]
  },
  {
   "cell_type": "code",
   "execution_count": 71,
   "metadata": {},
   "outputs": [
    {
     "name": "stdout",
     "output_type": "stream",
     "text": [
      "9227465\n",
      "0.0005089470000712026\n"
     ]
    }
   ],
   "source": [
    "from time import perf_counter\n",
    "start = perf_counter()\n",
    "print(fib(35))\n",
    "end = perf_counter()\n",
    "print(end -start)"
   ]
  },
  {
   "cell_type": "code",
   "execution_count": 72,
   "metadata": {},
   "outputs": [
    {
     "name": "stdout",
     "output_type": "stream",
     "text": [
      "inner - Calculating fib(200)\n",
      "Calculating fib(200)\n",
      "inner - Calculating fib(199)\n",
      "Calculating fib(199)\n",
      "inner - Calculating fib(198)\n",
      "Calculating fib(198)\n",
      "inner - Calculating fib(197)\n",
      "Calculating fib(197)\n",
      "inner - Calculating fib(196)\n",
      "Calculating fib(196)\n",
      "inner - Calculating fib(195)\n",
      "Calculating fib(195)\n",
      "inner - Calculating fib(194)\n",
      "Calculating fib(194)\n",
      "inner - Calculating fib(193)\n",
      "Calculating fib(193)\n",
      "inner - Calculating fib(192)\n",
      "Calculating fib(192)\n",
      "inner - Calculating fib(191)\n",
      "Calculating fib(191)\n",
      "inner - Calculating fib(190)\n",
      "Calculating fib(190)\n",
      "inner - Calculating fib(189)\n",
      "Calculating fib(189)\n",
      "inner - Calculating fib(188)\n",
      "Calculating fib(188)\n",
      "inner - Calculating fib(187)\n",
      "Calculating fib(187)\n",
      "inner - Calculating fib(186)\n",
      "Calculating fib(186)\n",
      "inner - Calculating fib(185)\n",
      "Calculating fib(185)\n",
      "inner - Calculating fib(184)\n",
      "Calculating fib(184)\n",
      "inner - Calculating fib(183)\n",
      "Calculating fib(183)\n",
      "inner - Calculating fib(182)\n",
      "Calculating fib(182)\n",
      "inner - Calculating fib(181)\n",
      "Calculating fib(181)\n",
      "inner - Calculating fib(180)\n",
      "Calculating fib(180)\n",
      "inner - Calculating fib(179)\n",
      "Calculating fib(179)\n",
      "inner - Calculating fib(178)\n",
      "Calculating fib(178)\n",
      "inner - Calculating fib(177)\n",
      "Calculating fib(177)\n",
      "inner - Calculating fib(176)\n",
      "Calculating fib(176)\n",
      "inner - Calculating fib(175)\n",
      "Calculating fib(175)\n",
      "inner - Calculating fib(174)\n",
      "Calculating fib(174)\n",
      "inner - Calculating fib(173)\n",
      "Calculating fib(173)\n",
      "inner - Calculating fib(172)\n",
      "Calculating fib(172)\n",
      "inner - Calculating fib(171)\n",
      "Calculating fib(171)\n",
      "inner - Calculating fib(170)\n",
      "Calculating fib(170)\n",
      "inner - Calculating fib(169)\n",
      "Calculating fib(169)\n",
      "inner - Calculating fib(168)\n",
      "Calculating fib(168)\n",
      "inner - Calculating fib(167)\n",
      "Calculating fib(167)\n",
      "inner - Calculating fib(166)\n",
      "Calculating fib(166)\n",
      "inner - Calculating fib(165)\n",
      "Calculating fib(165)\n",
      "inner - Calculating fib(164)\n",
      "Calculating fib(164)\n",
      "inner - Calculating fib(163)\n",
      "Calculating fib(163)\n",
      "inner - Calculating fib(162)\n",
      "Calculating fib(162)\n",
      "inner - Calculating fib(161)\n",
      "Calculating fib(161)\n",
      "inner - Calculating fib(160)\n",
      "Calculating fib(160)\n",
      "inner - Calculating fib(159)\n",
      "Calculating fib(159)\n",
      "inner - Calculating fib(158)\n",
      "Calculating fib(158)\n",
      "inner - Calculating fib(157)\n",
      "Calculating fib(157)\n",
      "inner - Calculating fib(156)\n",
      "Calculating fib(156)\n",
      "inner - Calculating fib(155)\n",
      "Calculating fib(155)\n",
      "inner - Calculating fib(154)\n",
      "Calculating fib(154)\n",
      "inner - Calculating fib(153)\n",
      "Calculating fib(153)\n",
      "inner - Calculating fib(152)\n",
      "Calculating fib(152)\n",
      "inner - Calculating fib(151)\n",
      "Calculating fib(151)\n",
      "inner - Calculating fib(150)\n",
      "Calculating fib(150)\n",
      "inner - Calculating fib(149)\n",
      "Calculating fib(149)\n",
      "inner - Calculating fib(148)\n",
      "Calculating fib(148)\n",
      "inner - Calculating fib(147)\n",
      "Calculating fib(147)\n",
      "inner - Calculating fib(146)\n",
      "Calculating fib(146)\n",
      "inner - Calculating fib(145)\n",
      "Calculating fib(145)\n",
      "inner - Calculating fib(144)\n",
      "Calculating fib(144)\n",
      "inner - Calculating fib(143)\n",
      "Calculating fib(143)\n",
      "inner - Calculating fib(142)\n",
      "Calculating fib(142)\n",
      "inner - Calculating fib(141)\n",
      "Calculating fib(141)\n",
      "inner - Calculating fib(140)\n",
      "Calculating fib(140)\n",
      "inner - Calculating fib(139)\n",
      "Calculating fib(139)\n",
      "inner - Calculating fib(138)\n",
      "Calculating fib(138)\n",
      "inner - Calculating fib(137)\n",
      "Calculating fib(137)\n",
      "inner - Calculating fib(136)\n",
      "Calculating fib(136)\n",
      "inner - Calculating fib(135)\n",
      "Calculating fib(135)\n",
      "inner - Calculating fib(134)\n",
      "Calculating fib(134)\n",
      "inner - Calculating fib(133)\n",
      "Calculating fib(133)\n",
      "inner - Calculating fib(132)\n",
      "Calculating fib(132)\n",
      "inner - Calculating fib(131)\n",
      "Calculating fib(131)\n",
      "inner - Calculating fib(130)\n",
      "Calculating fib(130)\n",
      "inner - Calculating fib(129)\n",
      "Calculating fib(129)\n",
      "inner - Calculating fib(128)\n",
      "Calculating fib(128)\n",
      "inner - Calculating fib(127)\n",
      "Calculating fib(127)\n",
      "inner - Calculating fib(126)\n",
      "Calculating fib(126)\n",
      "inner - Calculating fib(125)\n",
      "Calculating fib(125)\n",
      "inner - Calculating fib(124)\n",
      "Calculating fib(124)\n",
      "inner - Calculating fib(123)\n",
      "Calculating fib(123)\n",
      "inner - Calculating fib(122)\n",
      "Calculating fib(122)\n",
      "inner - Calculating fib(121)\n",
      "Calculating fib(121)\n",
      "inner - Calculating fib(120)\n",
      "Calculating fib(120)\n",
      "inner - Calculating fib(119)\n",
      "Calculating fib(119)\n",
      "inner - Calculating fib(118)\n",
      "Calculating fib(118)\n",
      "inner - Calculating fib(117)\n",
      "Calculating fib(117)\n",
      "inner - Calculating fib(116)\n",
      "Calculating fib(116)\n",
      "inner - Calculating fib(115)\n",
      "Calculating fib(115)\n",
      "inner - Calculating fib(114)\n",
      "Calculating fib(114)\n",
      "inner - Calculating fib(113)\n",
      "Calculating fib(113)\n",
      "inner - Calculating fib(112)\n",
      "Calculating fib(112)\n",
      "inner - Calculating fib(111)\n",
      "Calculating fib(111)\n",
      "inner - Calculating fib(110)\n",
      "Calculating fib(110)\n",
      "inner - Calculating fib(109)\n",
      "Calculating fib(109)\n",
      "inner - Calculating fib(108)\n",
      "Calculating fib(108)\n",
      "inner - Calculating fib(107)\n",
      "Calculating fib(107)\n",
      "inner - Calculating fib(106)\n",
      "Calculating fib(106)\n",
      "inner - Calculating fib(105)\n",
      "Calculating fib(105)\n",
      "inner - Calculating fib(104)\n",
      "Calculating fib(104)\n",
      "inner - Calculating fib(103)\n",
      "Calculating fib(103)\n",
      "inner - Calculating fib(102)\n",
      "Calculating fib(102)\n",
      "inner - Calculating fib(101)\n",
      "Calculating fib(101)\n",
      "inner - Calculating fib(100)\n",
      "Calculating fib(100)\n",
      "inner - Calculating fib(99)\n",
      "Calculating fib(99)\n",
      "inner - Calculating fib(98)\n",
      "Calculating fib(98)\n",
      "inner - Calculating fib(97)\n",
      "Calculating fib(97)\n",
      "inner - Calculating fib(96)\n",
      "Calculating fib(96)\n",
      "inner - Calculating fib(95)\n",
      "Calculating fib(95)\n",
      "inner - Calculating fib(94)\n",
      "Calculating fib(94)\n",
      "inner - Calculating fib(93)\n",
      "Calculating fib(93)\n",
      "inner - Calculating fib(92)\n",
      "Calculating fib(92)\n",
      "inner - Calculating fib(91)\n",
      "Calculating fib(91)\n",
      "inner - Calculating fib(90)\n",
      "Calculating fib(90)\n",
      "inner - Calculating fib(89)\n",
      "Calculating fib(89)\n",
      "inner - Calculating fib(88)\n",
      "Calculating fib(88)\n",
      "inner - Calculating fib(87)\n",
      "Calculating fib(87)\n",
      "inner - Calculating fib(86)\n",
      "Calculating fib(86)\n",
      "inner - Calculating fib(85)\n",
      "Calculating fib(85)\n",
      "inner - Calculating fib(84)\n",
      "Calculating fib(84)\n",
      "inner - Calculating fib(83)\n",
      "Calculating fib(83)\n",
      "inner - Calculating fib(82)\n",
      "Calculating fib(82)\n",
      "inner - Calculating fib(81)\n",
      "Calculating fib(81)\n",
      "inner - Calculating fib(80)\n",
      "Calculating fib(80)\n",
      "inner - Calculating fib(79)\n",
      "Calculating fib(79)\n",
      "inner - Calculating fib(78)\n",
      "Calculating fib(78)\n",
      "inner - Calculating fib(77)\n",
      "Calculating fib(77)\n",
      "inner - Calculating fib(76)\n",
      "Calculating fib(76)\n",
      "inner - Calculating fib(75)\n",
      "Calculating fib(75)\n",
      "inner - Calculating fib(74)\n",
      "Calculating fib(74)\n",
      "inner - Calculating fib(73)\n",
      "Calculating fib(73)\n",
      "inner - Calculating fib(72)\n",
      "Calculating fib(72)\n",
      "inner - Calculating fib(71)\n",
      "Calculating fib(71)\n",
      "inner - Calculating fib(70)\n",
      "Calculating fib(70)\n",
      "inner - Calculating fib(69)\n",
      "Calculating fib(69)\n",
      "inner - Calculating fib(68)\n",
      "Calculating fib(68)\n",
      "inner - Calculating fib(67)\n",
      "Calculating fib(67)\n",
      "inner - Calculating fib(66)\n",
      "Calculating fib(66)\n",
      "inner - Calculating fib(65)\n",
      "Calculating fib(65)\n",
      "inner - Calculating fib(64)\n",
      "Calculating fib(64)\n",
      "inner - Calculating fib(63)\n",
      "Calculating fib(63)\n",
      "inner - Calculating fib(62)\n",
      "Calculating fib(62)\n",
      "inner - Calculating fib(61)\n",
      "Calculating fib(61)\n",
      "inner - Calculating fib(60)\n",
      "Calculating fib(60)\n",
      "inner - Calculating fib(59)\n",
      "Calculating fib(59)\n",
      "inner - Calculating fib(58)\n",
      "Calculating fib(58)\n",
      "inner - Calculating fib(57)\n",
      "Calculating fib(57)\n",
      "inner - Calculating fib(56)\n",
      "Calculating fib(56)\n",
      "inner - Calculating fib(55)\n",
      "Calculating fib(55)\n",
      "inner - Calculating fib(54)\n",
      "Calculating fib(54)\n",
      "inner - Calculating fib(53)\n",
      "Calculating fib(53)\n",
      "inner - Calculating fib(52)\n",
      "Calculating fib(52)\n",
      "inner - Calculating fib(51)\n",
      "Calculating fib(51)\n",
      "inner - Calculating fib(50)\n",
      "Calculating fib(50)\n",
      "inner - Calculating fib(49)\n",
      "Calculating fib(49)\n",
      "inner - Calculating fib(48)\n",
      "Calculating fib(48)\n",
      "inner - Calculating fib(47)\n",
      "Calculating fib(47)\n",
      "inner - Calculating fib(46)\n",
      "Calculating fib(46)\n",
      "inner - Calculating fib(45)\n",
      "Calculating fib(45)\n",
      "inner - Calculating fib(44)\n",
      "Calculating fib(44)\n",
      "inner - Calculating fib(43)\n",
      "Calculating fib(43)\n",
      "inner - Calculating fib(42)\n",
      "Calculating fib(42)\n",
      "inner - Calculating fib(41)\n",
      "Calculating fib(41)\n",
      "inner - Calculating fib(40)\n",
      "Calculating fib(40)\n",
      "inner - Calculating fib(39)\n",
      "Calculating fib(39)\n",
      "inner - Calculating fib(38)\n",
      "Calculating fib(38)\n",
      "inner - Calculating fib(37)\n",
      "Calculating fib(37)\n",
      "inner - Calculating fib(36)\n",
      "Calculating fib(36)\n",
      "280571172992510140037611932413038677189525\n",
      "0.005770799999936571\n"
     ]
    }
   ],
   "source": [
    "from time import perf_counter\n",
    "start = perf_counter()\n",
    "print(fib(200))\n",
    "end = perf_counter()\n",
    "print(end -start)"
   ]
  },
  {
   "cell_type": "code",
   "execution_count": 73,
   "metadata": {},
   "outputs": [],
   "source": [
    "# efficient "
   ]
  },
  {
   "cell_type": "code",
   "execution_count": 74,
   "metadata": {},
   "outputs": [],
   "source": [
    "def memoize(fn): \n",
    "    cache = dict()\n",
    "    \n",
    "    \n",
    "    def inner(*args): \n",
    "        if n not in cache: \n",
    "            print('inner - Calculating fib({0})'.format(n))\n",
    "            cache[n] = fn(n)\n",
    "        return cache[n]\n",
    "    \n",
    "    return inner"
   ]
  },
  {
   "cell_type": "code",
   "execution_count": 75,
   "metadata": {},
   "outputs": [],
   "source": [
    "@memoize \n",
    "def fact(n): \n",
    "#     print('Calculating {0}!'.format(n))\n",
    "    return 1 if n < 2 else n*fact(n-1)"
   ]
  },
  {
   "cell_type": "code",
   "execution_count": 77,
   "metadata": {},
   "outputs": [],
   "source": [
    "from functools import lru_cache \n"
   ]
  },
  {
   "cell_type": "code",
   "execution_count": 82,
   "metadata": {},
   "outputs": [],
   "source": [
    "@lru_cache()\n",
    "def fib(n): \n",
    "    print('Calculating fib({0})'.format(n))\n",
    "    return 1 if n < 3 else fib(n-1)+fib(n-2)"
   ]
  },
  {
   "cell_type": "code",
   "execution_count": 83,
   "metadata": {},
   "outputs": [
    {
     "name": "stdout",
     "output_type": "stream",
     "text": [
      "Calculating fib(10)\n",
      "Calculating fib(9)\n",
      "Calculating fib(8)\n",
      "Calculating fib(7)\n",
      "Calculating fib(6)\n",
      "Calculating fib(5)\n",
      "Calculating fib(4)\n",
      "Calculating fib(3)\n",
      "Calculating fib(2)\n",
      "Calculating fib(1)\n"
     ]
    },
    {
     "data": {
      "text/plain": [
       "55"
      ]
     },
     "execution_count": 83,
     "metadata": {},
     "output_type": "execute_result"
    }
   ],
   "source": [
    "fib(10)"
   ]
  },
  {
   "cell_type": "code",
   "execution_count": 84,
   "metadata": {},
   "outputs": [
    {
     "data": {
      "text/plain": [
       "55"
      ]
     },
     "execution_count": 84,
     "metadata": {},
     "output_type": "execute_result"
    }
   ],
   "source": [
    "fib(10)"
   ]
  },
  {
   "cell_type": "code",
   "execution_count": 85,
   "metadata": {},
   "outputs": [
    {
     "name": "stdout",
     "output_type": "stream",
     "text": [
      "Calculating fib(11)\n"
     ]
    },
    {
     "data": {
      "text/plain": [
       "89"
      ]
     },
     "execution_count": 85,
     "metadata": {},
     "output_type": "execute_result"
    }
   ],
   "source": [
    "fib(11)"
   ]
  },
  {
   "cell_type": "code",
   "execution_count": 86,
   "metadata": {},
   "outputs": [],
   "source": [
    "# lru cache did all the caching for ou. "
   ]
  },
  {
   "cell_type": "code",
   "execution_count": 87,
   "metadata": {},
   "outputs": [
    {
     "name": "stdout",
     "output_type": "stream",
     "text": [
      "Help on function lru_cache in module functools:\n",
      "\n",
      "lru_cache(maxsize=128, typed=False)\n",
      "    Least-recently-used cache decorator.\n",
      "    \n",
      "    If *maxsize* is set to None, the LRU features are disabled and the cache\n",
      "    can grow without bound.\n",
      "    \n",
      "    If *typed* is True, arguments of different types will be cached separately.\n",
      "    For example, f(3.0) and f(3) will be treated as distinct calls with\n",
      "    distinct results.\n",
      "    \n",
      "    Arguments to the cached function must be hashable.\n",
      "    \n",
      "    View the cache statistics named tuple (hits, misses, maxsize, currsize)\n",
      "    with f.cache_info().  Clear the cache and statistics with f.cache_clear().\n",
      "    Access the underlying function with f.__wrapped__.\n",
      "    \n",
      "    See:  http://en.wikipedia.org/wiki/Cache_replacement_policies#Least_recently_used_(LRU)\n",
      "\n"
     ]
    }
   ],
   "source": [
    "help(lru_cache)"
   ]
  },
  {
   "cell_type": "code",
   "execution_count": 90,
   "metadata": {},
   "outputs": [],
   "source": [
    "@lru_cache(maxsize = 8)\n",
    "def fib(n): \n",
    "    print('Calculating fib({0})'.format(n))\n",
    "    return 1 if n < 3 else fib(n-1)+fib(n-2)"
   ]
  },
  {
   "cell_type": "code",
   "execution_count": 91,
   "metadata": {},
   "outputs": [
    {
     "name": "stdout",
     "output_type": "stream",
     "text": [
      "Calculating fib(8)\n",
      "Calculating fib(7)\n",
      "Calculating fib(6)\n",
      "Calculating fib(5)\n",
      "Calculating fib(4)\n",
      "Calculating fib(3)\n",
      "Calculating fib(2)\n",
      "Calculating fib(1)\n"
     ]
    },
    {
     "data": {
      "text/plain": [
       "21"
      ]
     },
     "execution_count": 91,
     "metadata": {},
     "output_type": "execute_result"
    }
   ],
   "source": [
    "fib(8)"
   ]
  },
  {
   "cell_type": "code",
   "execution_count": 92,
   "metadata": {},
   "outputs": [
    {
     "data": {
      "text/plain": [
       "21"
      ]
     },
     "execution_count": 92,
     "metadata": {},
     "output_type": "execute_result"
    }
   ],
   "source": [
    "fib(8)"
   ]
  },
  {
   "cell_type": "code",
   "execution_count": 93,
   "metadata": {},
   "outputs": [
    {
     "name": "stdout",
     "output_type": "stream",
     "text": [
      "Calculating fib(16)\n",
      "Calculating fib(15)\n",
      "Calculating fib(14)\n",
      "Calculating fib(13)\n",
      "Calculating fib(12)\n",
      "Calculating fib(11)\n",
      "Calculating fib(10)\n",
      "Calculating fib(9)\n"
     ]
    },
    {
     "data": {
      "text/plain": [
       "987"
      ]
     },
     "execution_count": 93,
     "metadata": {},
     "output_type": "execute_result"
    }
   ],
   "source": [
    "fib(16)"
   ]
  },
  {
   "cell_type": "code",
   "execution_count": 94,
   "metadata": {},
   "outputs": [
    {
     "data": {
      "text/plain": [
       "34"
      ]
     },
     "execution_count": 94,
     "metadata": {},
     "output_type": "execute_result"
    }
   ],
   "source": [
    "fib(9)"
   ]
  },
  {
   "cell_type": "code",
   "execution_count": 95,
   "metadata": {},
   "outputs": [
    {
     "name": "stdout",
     "output_type": "stream",
     "text": [
      "Calculating fib(1)\n"
     ]
    },
    {
     "data": {
      "text/plain": [
       "1"
      ]
     },
     "execution_count": 95,
     "metadata": {},
     "output_type": "execute_result"
    }
   ],
   "source": [
    "fib(1)"
   ]
  },
  {
   "cell_type": "code",
   "execution_count": 96,
   "metadata": {},
   "outputs": [
    {
     "name": "stdout",
     "output_type": "stream",
     "text": [
      "Calculating fib(3)\n",
      "Calculating fib(2)\n"
     ]
    },
    {
     "data": {
      "text/plain": [
       "2"
      ]
     },
     "execution_count": 96,
     "metadata": {},
     "output_type": "execute_result"
    }
   ],
   "source": [
    "fib(3)"
   ]
  },
  {
   "cell_type": "code",
   "execution_count": 97,
   "metadata": {},
   "outputs": [
    {
     "data": {
      "text/plain": [
       "1"
      ]
     },
     "execution_count": 97,
     "metadata": {},
     "output_type": "execute_result"
    }
   ],
   "source": [
    "fib(2)"
   ]
  },
  {
   "cell_type": "code",
   "execution_count": null,
   "metadata": {},
   "outputs": [],
   "source": []
  }
 ],
 "metadata": {
  "kernelspec": {
   "display_name": "Python 3",
   "language": "python",
   "name": "python3"
  },
  "language_info": {
   "codemirror_mode": {
    "name": "ipython",
    "version": 3
   },
   "file_extension": ".py",
   "mimetype": "text/x-python",
   "name": "python",
   "nbconvert_exporter": "python",
   "pygments_lexer": "ipython3",
   "version": "3.8.2"
  }
 },
 "nbformat": 4,
 "nbformat_minor": 4
}
