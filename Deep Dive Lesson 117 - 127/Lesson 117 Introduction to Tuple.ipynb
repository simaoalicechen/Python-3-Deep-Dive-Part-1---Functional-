{
 "cells": [
  {
   "cell_type": "code",
   "execution_count": null,
   "metadata": {},
   "outputs": [],
   "source": [
    "'''\n",
    "read-only lists... at least that is how most people think\n",
    "\n",
    "There is a lot more.\n",
    "\n",
    "Tuple: immutable \n",
    "\n",
    "We really need tothink fo tuples also as data records  --- Position of values has meaning \n",
    "\n",
    "\n",
    "This is why we are going to start looking at tuples before we even cover sequence types \n",
    "\n",
    "We are going to focus here on tuples as a data records or structures \n",
    "\n",
    "We will also look at named tuples (position has meaning, position also has a name, more like a data record) \n",
    "\n",
    "\n",
    "\n",
    "\n",
    "\n",
    "'''"
   ]
  }
 ],
 "metadata": {
  "kernelspec": {
   "display_name": "Python 3",
   "language": "python",
   "name": "python3"
  },
  "language_info": {
   "codemirror_mode": {
    "name": "ipython",
    "version": 3
   },
   "file_extension": ".py",
   "mimetype": "text/x-python",
   "name": "python",
   "nbconvert_exporter": "python",
   "pygments_lexer": "ipython3",
   "version": "3.8.2"
  }
 },
 "nbformat": 4,
 "nbformat_minor": 4
}
