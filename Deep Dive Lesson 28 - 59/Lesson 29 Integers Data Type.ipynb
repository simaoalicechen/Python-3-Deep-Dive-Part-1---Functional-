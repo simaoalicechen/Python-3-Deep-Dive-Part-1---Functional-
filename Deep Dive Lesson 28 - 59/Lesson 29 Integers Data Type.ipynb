{
 "cells": [
  {
   "cell_type": "code",
   "execution_count": null,
   "metadata": {},
   "outputs": [],
   "source": [
    "'''\n",
    "The INT data type\n",
    "ex: 0,10,-100,10000000, .....\n",
    "\n",
    "How large can a Python int become (positive or negative)? \n",
    "\n",
    "Integers are represented internally using base-2 (binary) digits, not decimal. \n",
    "\n",
    "individual bits(0|1) \n",
    "123, 64, 32, 16, 8, 4, 2, 1 \n",
    "\n",
    "19 base 10 = 10011 base 2\n",
    "\n",
    "1*16+0*8+8*4+1*2+1*1 = 16+2+1 = 19 \n",
    "\n",
    "Representing the decimal number 19 requires 5 bits\n",
    "\n",
    "What is the largest (base10) intger number that can be represented using 8 bits? \n",
    "Let's assume first that we only care about non-negative integers \n",
    "\n",
    "128+63+32+16+8+4+2+1 = 255 = 2**8-1\n",
    "\n",
    "If we care about handling negative integers as well, then 1 bit is reserved to represent the sign of the number, leaving \n",
    "us with only 7 bits for the number itself out of the original 8 bits \n",
    "\n",
    "The Largest number we can represent using 7 bits is 2**7 -1 = 127\n",
    "\n",
    "so using 8 bits we are able to represent all the intgers in the range[-127, 127]\n",
    "Since 0 does not require a sign, we can squeeze out an extra number, and we end up with the range[-128, 127]\n",
    "or [-2**7, 2**7-1] \n",
    "\n",
    "\n",
    "If we want to use 16 bits to store (signed) integers, our range wouldbe: \n",
    "2**(16-1) = 2**15 = 32,768 Range: [-32768, 32768] \n",
    "\n",
    "Similarly, if we want to use 32 bits to store(signed) integers, our range would be: \n",
    "2**31 = 2147483648 Range: [-2147483648, 2147483648]\n",
    "\n",
    "If we had an unsigned integer type, using 32 bits our range would be: \n",
    "[0, 2**32] = [0,...4, 294,967,296] \n",
    "\n",
    "In a 32-bit OS: Memory spaces (bytes) are limited by their address number ----> 32 bits \n",
    "4294967296 bytes of addressable memory \n",
    "= 4294967296/1024KB = 4194304KB\n",
    "------> 4194304KB/1024KB = 4096MB\n",
    "------> 4096MB/1024GB = 4GB \n",
    "\n",
    "So, how large an intger can depend on how many bits are used to store the number \n",
    "\n",
    "Some languages (Such as Java, C....) Provide multiple distinct intgeger data types that use a fixed nuer of bits: \n",
    "byte signed 8-bit numbers -128,...127\n",
    "short signed 16-bit numbers -32768, 32767\n",
    "int signed 32-bit numbers -2**31..., 2**31-1 \n",
    "long signed 64-bit numbers -2**63.., 2**63-1 \n",
    "and more... \n",
    "\n",
    "\n",
    "Python does not work tis way \n",
    "\n",
    "The int object uses a variable number of bits \n",
    "\n",
    "Can use 4 bytes(32bits), 8 bytes(64bits), 12 bytes(96bits), tec. Seamless to us..\n",
    "\n",
    "[Since ints are actuallly objects, there is a further fixed overhead per intger]\n",
    "\n",
    "Theoretically limited only by the amount of memory available \n",
    "Of course, larger numbers will use more memory \n",
    "and standard operators such as +, * etc, will run slower as numbers get larger. \n",
    "\n",
    "'''"
   ]
  },
  {
   "cell_type": "code",
   "execution_count": 1,
   "metadata": {},
   "outputs": [
    {
     "name": "stdout",
     "output_type": "stream",
     "text": [
      "<class 'int'>\n"
     ]
    }
   ],
   "source": [
    "print(type(100))"
   ]
  },
  {
   "cell_type": "code",
   "execution_count": 2,
   "metadata": {},
   "outputs": [],
   "source": [
    "import sys"
   ]
  },
  {
   "cell_type": "code",
   "execution_count": 3,
   "metadata": {},
   "outputs": [
    {
     "data": {
      "text/plain": [
       "24"
      ]
     },
     "execution_count": 3,
     "metadata": {},
     "output_type": "execute_result"
    }
   ],
   "source": [
    "sys.getsizeof(0)  # The overhead of creating an interger object used up at least 24 bites"
   ]
  },
  {
   "cell_type": "code",
   "execution_count": 4,
   "metadata": {},
   "outputs": [
    {
     "data": {
      "text/plain": [
       "28"
      ]
     },
     "execution_count": 4,
     "metadata": {},
     "output_type": "execute_result"
    }
   ],
   "source": [
    "sys.getsizeof(1)"
   ]
  },
  {
   "cell_type": "code",
   "execution_count": 7,
   "metadata": {},
   "outputs": [
    {
     "data": {
      "text/plain": [
       "160"
      ]
     },
     "execution_count": 7,
     "metadata": {},
     "output_type": "execute_result"
    }
   ],
   "source": [
    "sys.getsizeof(2**1000)"
   ]
  },
  {
   "cell_type": "code",
   "execution_count": 8,
   "metadata": {},
   "outputs": [
    {
     "data": {
      "text/plain": [
       "1088"
      ]
     },
     "execution_count": 8,
     "metadata": {},
     "output_type": "execute_result"
    }
   ],
   "source": [
    "(160-24)*8  # How many bits we use to store "
   ]
  },
  {
   "cell_type": "code",
   "execution_count": 10,
   "metadata": {},
   "outputs": [
    {
     "data": {
      "text/plain": [
       "10715086071862673209484250490600018105614048117055336074437503883703510511249361224931983788156958581275946729175531468251871452856923140435984577574698574803934567774824230985421074605062371141877954182153046474983581941267398767559165543946077062914571196477686542167660429831652624386837205668069376"
      ]
     },
     "execution_count": 10,
     "metadata": {},
     "output_type": "execute_result"
    }
   ],
   "source": [
    "2**1000"
   ]
  },
  {
   "cell_type": "code",
   "execution_count": 11,
   "metadata": {},
   "outputs": [],
   "source": [
    "import time "
   ]
  },
  {
   "cell_type": "code",
   "execution_count": 14,
   "metadata": {},
   "outputs": [],
   "source": [
    "def calc(a): \n",
    "    for i in range(100000000): \n",
    "        a*2 "
   ]
  },
  {
   "cell_type": "code",
   "execution_count": 17,
   "metadata": {},
   "outputs": [
    {
     "name": "stdout",
     "output_type": "stream",
     "text": [
      "0.05560777000005146\n"
     ]
    }
   ],
   "source": [
    "start = time.perf_counter()\n",
    "calc(10)\n",
    "end = time.perf_counter()\n",
    "print(end-start) "
   ]
  },
  {
   "cell_type": "code",
   "execution_count": 18,
   "metadata": {},
   "outputs": [
    {
     "name": "stdout",
     "output_type": "stream",
     "text": [
      "0.14985245000025316\n"
     ]
    }
   ],
   "source": [
    "start = time.perf_counter()\n",
    "calc(2**100)\n",
    "end = time.perf_counter()\n",
    "print(end-start)"
   ]
  },
  {
   "cell_type": "code",
   "execution_count": 19,
   "metadata": {},
   "outputs": [
    {
     "name": "stdout",
     "output_type": "stream",
     "text": [
      "0.6032165410001653\n"
     ]
    }
   ],
   "source": [
    "start = time.perf_counter()\n",
    "calc(2**10000)\n",
    "end = time.perf_counter()\n",
    "print(end-start)"
   ]
  },
  {
   "cell_type": "code",
   "execution_count": 20,
   "metadata": {},
   "outputs": [
    {
     "data": {
      "text/plain": [
       "19950631168807583848837421626835850838234968318861924548520089498529438830221946631919961684036194597899331129423209124271556491349413781117593785932096323957855730046793794526765246551266059895520550086918193311542508608460618104685509074866089624888090489894838009253941633257850621568309473902556912388065225096643874441046759871626985453222868538161694315775629640762836880760732228535091641476183956381458969463899410840960536267821064621427333394036525565649530603142680234969400335934316651459297773279665775606172582031407994198179607378245683762280037302885487251900834464581454650557929601414833921615734588139257095379769119277800826957735674444123062018757836325502728323789270710373802866393031428133241401624195671690574061419654342324638801248856147305207431992259611796250130992860241708340807605932320161268492288496255841312844061536738951487114256315111089745514203313820202931640957596464756010405845841566072044962867016515061920631004186422275908670900574606417856951911456055068251250406007519842261898059237118054444788072906395242548339221982707404473162376760846613033778706039803413197133493654622700563169937455508241780972810983291314403571877524768509857276937926433221599399876886660808368837838027643282775172273657572744784112294389733810861607423253291974813120197604178281965697475898164531258434135959862784130128185406283476649088690521047580882615823961985770122407044330583075869039319604603404973156583208672105913300903752823415539745394397715257455290510212310947321610753474825740775273986348298498340756937955646638621874569499279016572103701364433135817214311791398222983845847334440270964182851005072927748364550578634501100852987812389473928699540834346158807043959118985815145779177143619698728131459483783202081474982171858011389071228250905826817436220577475921417653715687725614904582904992461028630081535583308130101987675856234343538955409175623400844887526162643568648833519463720377293240094456246923254350400678027273837755376406726898636241037491410966718557050759098100246789880178271925953381282421954028302759408448955014676668389697996886241636313376393903373455801407636741877711055384225739499110186468219696581651485130494222369947714763069155468217682876200362777257723781365331611196811280792669481887201298643660768551639860534602297871557517947385246369446923087894265948217008051120322365496288169035739121368338393591756418733850510970271613915439590991598154654417336311656936031122249937969999226781732358023111862644575299135758175008199839236284615249881088960232244362173771618086357015468484058622329792853875623486556440536962622018963571028812361567512543338303270029097668650568557157505516727518899194129711337690149916181315171544007728650573189557450920330185304847113818315407324053319038462084036421763703911550639789000742853672196280903477974533320468368795868580237952218629120080742819551317948157624448298518461509704888027274721574688131594750409732115080498190455803416826949787141316063210686391511681774304792596709376"
      ]
     },
     "execution_count": 20,
     "metadata": {},
     "output_type": "execute_result"
    }
   ],
   "source": [
    "2**10000"
   ]
  },
  {
   "cell_type": "code",
   "execution_count": null,
   "metadata": {},
   "outputs": [],
   "source": []
  },
  {
   "cell_type": "code",
   "execution_count": null,
   "metadata": {},
   "outputs": [],
   "source": []
  },
  {
   "cell_type": "code",
   "execution_count": null,
   "metadata": {},
   "outputs": [],
   "source": []
  }
 ],
 "metadata": {
  "kernelspec": {
   "display_name": "Python 3",
   "language": "python",
   "name": "python3"
  },
  "language_info": {
   "codemirror_mode": {
    "name": "ipython",
    "version": 3
   },
   "file_extension": ".py",
   "mimetype": "text/x-python",
   "name": "python",
   "nbconvert_exporter": "python",
   "pygments_lexer": "ipython3",
   "version": "3.8.2"
  }
 },
 "nbformat": 4,
 "nbformat_minor": 4
}
