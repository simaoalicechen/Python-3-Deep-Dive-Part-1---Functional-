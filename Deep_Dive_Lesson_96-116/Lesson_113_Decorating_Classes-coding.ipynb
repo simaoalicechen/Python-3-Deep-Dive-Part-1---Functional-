{
 "cells": [
  {
   "cell_type": "markdown",
   "metadata": {},
   "source": [
    "# Decorating Classes\n",
    "## Python is a dynamic language, that means we can actually modify things in object and classes during run time while the codes are executing. We can go ahead that was previously defined. \n",
    "## monkey patching in python"
   ]
  },
  {
   "cell_type": "code",
   "execution_count": 2,
   "metadata": {},
   "outputs": [],
   "source": [
    "from fractions import Fraction"
   ]
  },
  {
   "cell_type": "code",
   "execution_count": 3,
   "metadata": {},
   "outputs": [],
   "source": [
    "f = Fraction(2,3)"
   ]
  },
  {
   "cell_type": "code",
   "execution_count": 4,
   "metadata": {},
   "outputs": [
    {
     "data": {
      "text/plain": [
       "3"
      ]
     },
     "execution_count": 4,
     "metadata": {},
     "output_type": "execute_result"
    }
   ],
   "source": [
    "f.denominator"
   ]
  },
  {
   "cell_type": "code",
   "execution_count": 5,
   "metadata": {},
   "outputs": [
    {
     "data": {
      "text/plain": [
       "2"
      ]
     },
     "execution_count": 5,
     "metadata": {},
     "output_type": "execute_result"
    }
   ],
   "source": [
    "f.numerator"
   ]
  },
  {
   "cell_type": "code",
   "execution_count": 6,
   "metadata": {},
   "outputs": [
    {
     "ename": "AttributeError",
     "evalue": "'Fraction' object has no attribute 'speak'",
     "output_type": "error",
     "traceback": [
      "\u001b[0;31m---------------------------------------------------------------------------\u001b[0m",
      "\u001b[0;31mAttributeError\u001b[0m                            Traceback (most recent call last)",
      "\u001b[0;32m<ipython-input-6-51229399ad48>\u001b[0m in \u001b[0;36m<module>\u001b[0;34m\u001b[0m\n\u001b[0;32m----> 1\u001b[0;31m \u001b[0mf\u001b[0m\u001b[0;34m.\u001b[0m\u001b[0mspeak\u001b[0m\u001b[0;34m(\u001b[0m\u001b[0;34m)\u001b[0m\u001b[0;34m\u001b[0m\u001b[0;34m\u001b[0m\u001b[0m\n\u001b[0m",
      "\u001b[0;31mAttributeError\u001b[0m: 'Fraction' object has no attribute 'speak'"
     ]
    }
   ],
   "source": [
    "f.speak()"
   ]
  },
  {
   "cell_type": "code",
   "execution_count": 7,
   "metadata": {},
   "outputs": [],
   "source": [
    "Fraction.speak = 100 # You can even modify the standard library to change the methods"
   ]
  },
  {
   "cell_type": "code",
   "execution_count": 9,
   "metadata": {},
   "outputs": [
    {
     "data": {
      "text/plain": [
       "100"
      ]
     },
     "execution_count": 9,
     "metadata": {},
     "output_type": "execute_result"
    }
   ],
   "source": [
    "f.speak # this is an attribute now. "
   ]
  },
  {
   "cell_type": "code",
   "execution_count": 10,
   "metadata": {},
   "outputs": [],
   "source": [
    "Fraction.speak = lambda self, message: 'Fraction says: {0}'.format(message)"
   ]
  },
  {
   "cell_type": "code",
   "execution_count": 11,
   "metadata": {},
   "outputs": [
    {
     "data": {
      "text/plain": [
       "'Fraction says: This is a late parrot'"
      ]
     },
     "execution_count": 11,
     "metadata": {},
     "output_type": "execute_result"
    }
   ],
   "source": [
    "f.speak('This is a late parrot')"
   ]
  },
  {
   "cell_type": "code",
   "execution_count": 12,
   "metadata": {},
   "outputs": [],
   "source": [
    "f2 = Fraction(10,5)"
   ]
  },
  {
   "cell_type": "code",
   "execution_count": 13,
   "metadata": {},
   "outputs": [
    {
     "data": {
      "text/plain": [
       "'Fraction says: This parrot is no more.'"
      ]
     },
     "execution_count": 13,
     "metadata": {},
     "output_type": "execute_result"
    }
   ],
   "source": [
    "f2.speak('This parrot is no more.')"
   ]
  },
  {
   "cell_type": "code",
   "execution_count": 14,
   "metadata": {},
   "outputs": [],
   "source": [
    "# adding attributes in runtime"
   ]
  },
  {
   "cell_type": "code",
   "execution_count": 15,
   "metadata": {},
   "outputs": [],
   "source": [
    "# modifying classes when it's running"
   ]
  },
  {
   "cell_type": "code",
   "execution_count": 16,
   "metadata": {},
   "outputs": [],
   "source": [
    "Fraction.is_integral = lambda self: self.denominator == 1"
   ]
  },
  {
   "cell_type": "code",
   "execution_count": 17,
   "metadata": {},
   "outputs": [],
   "source": [
    "f1 = Fraction(2,3)"
   ]
  },
  {
   "cell_type": "code",
   "execution_count": 18,
   "metadata": {},
   "outputs": [],
   "source": [
    "f2 = Fraction(64, 8)"
   ]
  },
  {
   "cell_type": "code",
   "execution_count": 19,
   "metadata": {},
   "outputs": [
    {
     "data": {
      "text/plain": [
       "Fraction(2, 3)"
      ]
     },
     "execution_count": 19,
     "metadata": {},
     "output_type": "execute_result"
    }
   ],
   "source": [
    "f1"
   ]
  },
  {
   "cell_type": "code",
   "execution_count": 20,
   "metadata": {},
   "outputs": [
    {
     "data": {
      "text/plain": [
       "Fraction(8, 1)"
      ]
     },
     "execution_count": 20,
     "metadata": {},
     "output_type": "execute_result"
    }
   ],
   "source": [
    "f2"
   ]
  },
  {
   "cell_type": "code",
   "execution_count": 21,
   "metadata": {},
   "outputs": [
    {
     "data": {
      "text/plain": [
       "False"
      ]
     },
     "execution_count": 21,
     "metadata": {},
     "output_type": "execute_result"
    }
   ],
   "source": [
    "f1.is_integral()"
   ]
  },
  {
   "cell_type": "code",
   "execution_count": 22,
   "metadata": {},
   "outputs": [
    {
     "data": {
      "text/plain": [
       "True"
      ]
     },
     "execution_count": 22,
     "metadata": {},
     "output_type": "execute_result"
    }
   ],
   "source": [
    "f2.is_integral()"
   ]
  },
  {
   "cell_type": "markdown",
   "metadata": {},
   "source": [
    "# Now we monkey patch the class and use a function to decorate/modify the fraction class"
   ]
  },
  {
   "cell_type": "code",
   "execution_count": 37,
   "metadata": {},
   "outputs": [],
   "source": [
    "def dec_speak(cls): \n",
    "    cls.speak = lambda self, message: '{0} says: {1}'.format(self.__class__.__name__, message)\n",
    "    \n",
    "    return cls"
   ]
  },
  {
   "cell_type": "code",
   "execution_count": 38,
   "metadata": {},
   "outputs": [],
   "source": [
    "Fraction = dec_speak(Fraction) # dec_speak is decorating Fraction"
   ]
  },
  {
   "cell_type": "code",
   "execution_count": 39,
   "metadata": {},
   "outputs": [],
   "source": [
    "f1 = Fraction(2,3)"
   ]
  },
  {
   "cell_type": "code",
   "execution_count": 40,
   "metadata": {},
   "outputs": [
    {
     "data": {
      "text/plain": [
       "'Fraction says: hello'"
      ]
     },
     "execution_count": 40,
     "metadata": {},
     "output_type": "execute_result"
    }
   ],
   "source": [
    "f1.speak('hello')"
   ]
  },
  {
   "cell_type": "code",
   "execution_count": 41,
   "metadata": {},
   "outputs": [],
   "source": [
    "class Person: \n",
    "    pass"
   ]
  },
  {
   "cell_type": "code",
   "execution_count": 42,
   "metadata": {},
   "outputs": [],
   "source": [
    "Person = dec_speak(Person)"
   ]
  },
  {
   "cell_type": "code",
   "execution_count": 43,
   "metadata": {},
   "outputs": [],
   "source": [
    "p = Person()"
   ]
  },
  {
   "cell_type": "code",
   "execution_count": 44,
   "metadata": {},
   "outputs": [
    {
     "data": {
      "text/plain": [
       "'Person says: this works'"
      ]
     },
     "execution_count": 44,
     "metadata": {},
     "output_type": "execute_result"
    }
   ],
   "source": [
    "p.speak('this works')"
   ]
  },
  {
   "cell_type": "code",
   "execution_count": 45,
   "metadata": {},
   "outputs": [],
   "source": [
    "from datetime import datetime, timezone"
   ]
  },
  {
   "cell_type": "code",
   "execution_count": 46,
   "metadata": {},
   "outputs": [],
   "source": [
    "def debug_inf(cls):\n",
    "    def info(self): \n",
    "        results = []\n",
    "        results.append('time: {0}'.format(datetime.now(timezone.utc)))\n",
    "        results.append('Class: {0}'.format(self.__class__.__name__))\n",
    "        results.append('id: {0}'.format(hex(id(self))))\n",
    "        for k, v in vars(self).items():  # vars returns all the properties of that object itself\n",
    "            results.append('{0}: {1}'.format(k,v))\n",
    "        return results  #not a closure so far, as there is no free variable. It's just nesting inside\n",
    "    \n",
    "    cls.debug = info"
   ]
  },
  {
   "cell_type": "code",
   "execution_count": 50,
   "metadata": {},
   "outputs": [],
   "source": [
    "def info(self): \n",
    "    results = []\n",
    "    results.append('time: {0}'.format(datetime.now(timezone.utc)))\n",
    "    results.append('Class: {0}'.format(self.__class__.__name__))\n",
    "    results.append('id: {0}'.format(hex(id(self))))\n",
    "    for k, v in vars(self).items():  # vars returns all the properties of that object itself\n",
    "        results.append('{0}: {1}'.format(k,v))\n",
    "    return results  #not a closure so far, as there is no free variable. It's just nesting inside\n",
    "\n",
    "def debug_info(cls): \n",
    "    cls.debug = info\n",
    "    return cls"
   ]
  },
  {
   "cell_type": "code",
   "execution_count": 61,
   "metadata": {},
   "outputs": [],
   "source": [
    "@debug_info\n",
    "class Person: \n",
    "    def __init__(self, name, birth_year): \n",
    "        self.name = name\n",
    "        self.birth_year = birth_year\n",
    "        \n",
    "    def say_hi(): \n",
    "        return 'Hello there!'"
   ]
  },
  {
   "cell_type": "code",
   "execution_count": 62,
   "metadata": {},
   "outputs": [],
   "source": [
    "p = Person('John', 1939)"
   ]
  },
  {
   "cell_type": "code",
   "execution_count": 63,
   "metadata": {},
   "outputs": [
    {
     "data": {
      "text/plain": [
       "['time: 2021-02-15 18:01:54.270721+00:00',\n",
       " 'Class: Person',\n",
       " 'id: 0x114d44b20',\n",
       " 'name: John',\n",
       " 'birth_year: 1939']"
      ]
     },
     "execution_count": 63,
     "metadata": {},
     "output_type": "execute_result"
    }
   ],
   "source": [
    "p.debug()"
   ]
  },
  {
   "cell_type": "code",
   "execution_count": 64,
   "metadata": {},
   "outputs": [],
   "source": [
    "del Person\n",
    "del p"
   ]
  },
  {
   "cell_type": "code",
   "execution_count": 65,
   "metadata": {},
   "outputs": [],
   "source": [
    "@debug_info\n",
    "class Person: \n",
    "    def __init__(self, name): \n",
    "        self.name = name\n",
    "        "
   ]
  },
  {
   "cell_type": "code",
   "execution_count": 66,
   "metadata": {},
   "outputs": [
    {
     "ename": "TypeError",
     "evalue": "__init__() missing 1 required positional argument: 'name'",
     "output_type": "error",
     "traceback": [
      "\u001b[0;31m---------------------------------------------------------------------------\u001b[0m",
      "\u001b[0;31mTypeError\u001b[0m                                 Traceback (most recent call last)",
      "\u001b[0;32m<ipython-input-66-f16ed64f4024>\u001b[0m in \u001b[0;36m<module>\u001b[0;34m\u001b[0m\n\u001b[0;32m----> 1\u001b[0;31m \u001b[0mp\u001b[0m \u001b[0;34m=\u001b[0m \u001b[0mPerson\u001b[0m\u001b[0;34m(\u001b[0m\u001b[0;34m)\u001b[0m\u001b[0;34m\u001b[0m\u001b[0;34m\u001b[0m\u001b[0m\n\u001b[0m",
      "\u001b[0;31mTypeError\u001b[0m: __init__() missing 1 required positional argument: 'name'"
     ]
    }
   ],
   "source": [
    "p = Person()"
   ]
  },
  {
   "cell_type": "code",
   "execution_count": 68,
   "metadata": {},
   "outputs": [],
   "source": [
    "Person = debug_info(Person)"
   ]
  },
  {
   "cell_type": "code",
   "execution_count": 69,
   "metadata": {},
   "outputs": [],
   "source": [
    "p = Person('John')"
   ]
  },
  {
   "cell_type": "code",
   "execution_count": 70,
   "metadata": {},
   "outputs": [],
   "source": [
    "@debug_info\n",
    "class Person: \n",
    "    def __init__(self, name): \n",
    "        self.name = name"
   ]
  },
  {
   "cell_type": "code",
   "execution_count": 72,
   "metadata": {},
   "outputs": [
    {
     "data": {
      "text/plain": [
       "['time: 2021-02-15 18:15:24.622917+00:00',\n",
       " 'Class: Person',\n",
       " 'id: 0x114d44e20',\n",
       " 'name: John']"
      ]
     },
     "execution_count": 72,
     "metadata": {},
     "output_type": "execute_result"
    }
   ],
   "source": [
    "p.debug() # can be resued for other classes too. "
   ]
  },
  {
   "cell_type": "code",
   "execution_count": 76,
   "metadata": {},
   "outputs": [],
   "source": [
    "@debug_info\n",
    "class Automobile: \n",
    "    def __init__(self, make, model, year, top_speed): \n",
    "        self.make = make\n",
    "        self.model = model\n",
    "        self.year = year\n",
    "        self.top_speed = top_speed\n",
    "        self._speed = 0 \n",
    "        \n",
    "    @property\n",
    "    def speed(self): \n",
    "        return self._speed\n",
    "    \n",
    "    @speed.setter \n",
    "    def speed(self, new_speed): \n",
    "        if new_speed > self.top_speed: \n",
    "            raise ValueError('Speed cannot exceed top_speed.')\n",
    "        else: \n",
    "            self._speed = new_speed"
   ]
  },
  {
   "cell_type": "code",
   "execution_count": 77,
   "metadata": {},
   "outputs": [],
   "source": [
    "favorite = Automobile('Ford', 'Model T', 1908, 45)"
   ]
  },
  {
   "cell_type": "code",
   "execution_count": 78,
   "metadata": {},
   "outputs": [
    {
     "data": {
      "text/plain": [
       "['time: 2021-02-15 18:27:01.199344+00:00',\n",
       " 'Class: Automobile',\n",
       " 'id: 0x114d449d0',\n",
       " 'make: Ford',\n",
       " 'model: Model T',\n",
       " 'year: 1908',\n",
       " 'top_speed: 45',\n",
       " '_speed: 0']"
      ]
     },
     "execution_count": 78,
     "metadata": {},
     "output_type": "execute_result"
    }
   ],
   "source": [
    "favorite.debug()"
   ]
  },
  {
   "cell_type": "code",
   "execution_count": 80,
   "metadata": {},
   "outputs": [
    {
     "ename": "ValueError",
     "evalue": "Speed cannot exceed top_speed.",
     "output_type": "error",
     "traceback": [
      "\u001b[0;31m---------------------------------------------------------------------------\u001b[0m",
      "\u001b[0;31mValueError\u001b[0m                                Traceback (most recent call last)",
      "\u001b[0;32m<ipython-input-80-0013512380bf>\u001b[0m in \u001b[0;36m<module>\u001b[0;34m\u001b[0m\n\u001b[0;32m----> 1\u001b[0;31m \u001b[0mfavorite\u001b[0m\u001b[0;34m.\u001b[0m\u001b[0mspeed\u001b[0m \u001b[0;34m=\u001b[0m \u001b[0;36m100\u001b[0m\u001b[0;34m\u001b[0m\u001b[0;34m\u001b[0m\u001b[0m\n\u001b[0m",
      "\u001b[0;32m<ipython-input-76-04cbecac50ea>\u001b[0m in \u001b[0;36mspeed\u001b[0;34m(self, new_speed)\u001b[0m\n\u001b[1;32m     15\u001b[0m     \u001b[0;32mdef\u001b[0m \u001b[0mspeed\u001b[0m\u001b[0;34m(\u001b[0m\u001b[0mself\u001b[0m\u001b[0;34m,\u001b[0m \u001b[0mnew_speed\u001b[0m\u001b[0;34m)\u001b[0m\u001b[0;34m:\u001b[0m\u001b[0;34m\u001b[0m\u001b[0;34m\u001b[0m\u001b[0m\n\u001b[1;32m     16\u001b[0m         \u001b[0;32mif\u001b[0m \u001b[0mnew_speed\u001b[0m \u001b[0;34m>\u001b[0m \u001b[0mself\u001b[0m\u001b[0;34m.\u001b[0m\u001b[0mtop_speed\u001b[0m\u001b[0;34m:\u001b[0m\u001b[0;34m\u001b[0m\u001b[0;34m\u001b[0m\u001b[0m\n\u001b[0;32m---> 17\u001b[0;31m             \u001b[0;32mraise\u001b[0m \u001b[0mValueError\u001b[0m\u001b[0;34m(\u001b[0m\u001b[0;34m'Speed cannot exceed top_speed.'\u001b[0m\u001b[0;34m)\u001b[0m\u001b[0;34m\u001b[0m\u001b[0;34m\u001b[0m\u001b[0m\n\u001b[0m\u001b[1;32m     18\u001b[0m         \u001b[0;32melse\u001b[0m\u001b[0;34m:\u001b[0m\u001b[0;34m\u001b[0m\u001b[0;34m\u001b[0m\u001b[0m\n\u001b[1;32m     19\u001b[0m             \u001b[0mself\u001b[0m\u001b[0;34m.\u001b[0m\u001b[0m_speed\u001b[0m \u001b[0;34m=\u001b[0m \u001b[0mnew_speed\u001b[0m\u001b[0;34m\u001b[0m\u001b[0;34m\u001b[0m\u001b[0m\n",
      "\u001b[0;31mValueError\u001b[0m: Speed cannot exceed top_speed."
     ]
    }
   ],
   "source": [
    "favorite.speed = 100"
   ]
  },
  {
   "cell_type": "code",
   "execution_count": 81,
   "metadata": {},
   "outputs": [],
   "source": [
    "favorite.speed = 40"
   ]
  },
  {
   "cell_type": "code",
   "execution_count": 82,
   "metadata": {},
   "outputs": [
    {
     "data": {
      "text/plain": [
       "['time: 2021-02-15 18:27:31.756224+00:00',\n",
       " 'Class: Automobile',\n",
       " 'id: 0x114d449d0',\n",
       " 'make: Ford',\n",
       " 'model: Model T',\n",
       " 'year: 1908',\n",
       " 'top_speed: 45',\n",
       " '_speed: 40']"
      ]
     },
     "execution_count": 82,
     "metadata": {},
     "output_type": "execute_result"
    }
   ],
   "source": [
    "favorite.debug()"
   ]
  },
  {
   "cell_type": "code",
   "execution_count": 83,
   "metadata": {},
   "outputs": [],
   "source": [
    "from math import sqrt"
   ]
  },
  {
   "cell_type": "code",
   "execution_count": 84,
   "metadata": {},
   "outputs": [],
   "source": [
    "class Point: \n",
    "    def __init__(self, x, y): \n",
    "        self.x = x\n",
    "        self.y = y\n",
    "        \n",
    "    def __abs__(self): # will be able to call the abosolute function on a Point object \n",
    "        return sqrt(self.x ** 2 + self.y ** 2)\n",
    "    \n",
    "    def __repr__(self): \n",
    "        return 'Point({0}, {1})'.format(self.x, self.y)\n",
    "    \n",
    "        "
   ]
  },
  {
   "cell_type": "code",
   "execution_count": 85,
   "metadata": {},
   "outputs": [],
   "source": [
    "p1, p2, p3 = Point(2,3), Point(2,3), Point(0,0)"
   ]
  },
  {
   "cell_type": "code",
   "execution_count": 86,
   "metadata": {},
   "outputs": [
    {
     "data": {
      "text/plain": [
       "3.605551275463989"
      ]
     },
     "execution_count": 86,
     "metadata": {},
     "output_type": "execute_result"
    }
   ],
   "source": [
    "abs(p1)"
   ]
  },
  {
   "cell_type": "code",
   "execution_count": 87,
   "metadata": {},
   "outputs": [
    {
     "data": {
      "text/plain": [
       "Point(2, 3)"
      ]
     },
     "execution_count": 87,
     "metadata": {},
     "output_type": "execute_result"
    }
   ],
   "source": [
    "p1"
   ]
  },
  {
   "cell_type": "code",
   "execution_count": 88,
   "metadata": {},
   "outputs": [
    {
     "data": {
      "text/plain": [
       "False"
      ]
     },
     "execution_count": 88,
     "metadata": {},
     "output_type": "execute_result"
    }
   ],
   "source": [
    "p1 is p2"
   ]
  },
  {
   "cell_type": "code",
   "execution_count": 89,
   "metadata": {},
   "outputs": [
    {
     "data": {
      "text/plain": [
       "False"
      ]
     },
     "execution_count": 89,
     "metadata": {},
     "output_type": "execute_result"
    }
   ],
   "source": [
    "p2 is p3"
   ]
  },
  {
   "cell_type": "code",
   "execution_count": 90,
   "metadata": {},
   "outputs": [
    {
     "data": {
      "text/plain": [
       "False"
      ]
     },
     "execution_count": 90,
     "metadata": {},
     "output_type": "execute_result"
    }
   ],
   "source": [
    "p1 == p2"
   ]
  },
  {
   "cell_type": "code",
   "execution_count": 91,
   "metadata": {},
   "outputs": [],
   "source": [
    "class Point: \n",
    "    def __init__(self, x, y): \n",
    "        self.x = x\n",
    "        self.y = y\n",
    "        \n",
    "    def __abs__(self): # will be able to call the abosolute function on a Point object \n",
    "        return sqrt(self.x ** 2 + self.y ** 2)\n",
    "    \n",
    "    def __repr__(self): \n",
    "        return 'Point({0}, {1})'.format(self.x, self.y)\n",
    "    \n",
    "    def __eq__(self, other): \n",
    "        if isinstance(other, Point): \n",
    "            return self.x == other.x and self.y == other.y \n",
    "        else: \n",
    "            return False \n",
    "        "
   ]
  },
  {
   "cell_type": "code",
   "execution_count": 92,
   "metadata": {},
   "outputs": [],
   "source": [
    "p1, p2, p3 = Point(2,3), Point(2,3), Point(0,0)"
   ]
  },
  {
   "cell_type": "code",
   "execution_count": 93,
   "metadata": {},
   "outputs": [
    {
     "data": {
      "text/plain": [
       "False"
      ]
     },
     "execution_count": 93,
     "metadata": {},
     "output_type": "execute_result"
    }
   ],
   "source": [
    "p1 is p2"
   ]
  },
  {
   "cell_type": "code",
   "execution_count": 94,
   "metadata": {},
   "outputs": [
    {
     "data": {
      "text/plain": [
       "True"
      ]
     },
     "execution_count": 94,
     "metadata": {},
     "output_type": "execute_result"
    }
   ],
   "source": [
    "p1 == p2"
   ]
  },
  {
   "cell_type": "code",
   "execution_count": 96,
   "metadata": {},
   "outputs": [
    {
     "ename": "TypeError",
     "evalue": "'<' not supported between instances of 'Point' and 'Point'",
     "output_type": "error",
     "traceback": [
      "\u001b[0;31m---------------------------------------------------------------------------\u001b[0m",
      "\u001b[0;31mTypeError\u001b[0m                                 Traceback (most recent call last)",
      "\u001b[0;32m<ipython-input-96-7c58e179e2ba>\u001b[0m in \u001b[0;36m<module>\u001b[0;34m\u001b[0m\n\u001b[0;32m----> 1\u001b[0;31m \u001b[0mp1\u001b[0m \u001b[0;34m<\u001b[0m \u001b[0mp2\u001b[0m \u001b[0;31m# not supported so far, and we will implement a new method to do this.\u001b[0m\u001b[0;34m\u001b[0m\u001b[0;34m\u001b[0m\u001b[0m\n\u001b[0m",
      "\u001b[0;31mTypeError\u001b[0m: '<' not supported between instances of 'Point' and 'Point'"
     ]
    }
   ],
   "source": [
    "p1 < p2 # not supported so far, and we will implement a new method to do this. "
   ]
  },
  {
   "cell_type": "code",
   "execution_count": 97,
   "metadata": {},
   "outputs": [],
   "source": [
    "class Point: \n",
    "    def __init__(self, x, y): \n",
    "        self.x = x\n",
    "        self.y = y\n",
    "        \n",
    "    def __abs__(self): # will be able to call the abosolute function on a Point object \n",
    "        return sqrt(self.x ** 2 + self.y ** 2)\n",
    "    \n",
    "    def __repr__(self): \n",
    "        return 'Point({0}, {1})'.format(self.x, self.y)\n",
    "    \n",
    "    def __eq__(self, other): \n",
    "        if isinstance(other, Point): \n",
    "            return self.x == other.x and self.y == other.y \n",
    "        else: \n",
    "            return False \n",
    "        \n",
    "    def __lt__(self, other): \n",
    "        if isinstance(other, Point): \n",
    "            return abs(self) < abs(other)\n",
    "        else: \n",
    "            return NotImplemented "
   ]
  },
  {
   "cell_type": "code",
   "execution_count": 98,
   "metadata": {},
   "outputs": [],
   "source": [
    "p1, p2, p3 = Point(2,3), Point(2,3), Point(0,0)"
   ]
  },
  {
   "cell_type": "code",
   "execution_count": 99,
   "metadata": {},
   "outputs": [
    {
     "data": {
      "text/plain": [
       "True"
      ]
     },
     "execution_count": 99,
     "metadata": {},
     "output_type": "execute_result"
    }
   ],
   "source": [
    "p1 == p2"
   ]
  },
  {
   "cell_type": "code",
   "execution_count": 100,
   "metadata": {},
   "outputs": [
    {
     "data": {
      "text/plain": [
       "True"
      ]
     },
     "execution_count": 100,
     "metadata": {},
     "output_type": "execute_result"
    }
   ],
   "source": [
    "p3 < p1"
   ]
  },
  {
   "cell_type": "code",
   "execution_count": 101,
   "metadata": {},
   "outputs": [],
   "source": [
    "p4 = Point(100, 100)"
   ]
  },
  {
   "cell_type": "code",
   "execution_count": 102,
   "metadata": {},
   "outputs": [
    {
     "data": {
      "text/plain": [
       "False"
      ]
     },
     "execution_count": 102,
     "metadata": {},
     "output_type": "execute_result"
    }
   ],
   "source": [
    "p4 < p1"
   ]
  },
  {
   "cell_type": "code",
   "execution_count": 103,
   "metadata": {},
   "outputs": [
    {
     "data": {
      "text/plain": [
       "True"
      ]
     },
     "execution_count": 103,
     "metadata": {},
     "output_type": "execute_result"
    }
   ],
   "source": [
    "p4 > p1"
   ]
  },
  {
   "cell_type": "code",
   "execution_count": 104,
   "metadata": {},
   "outputs": [
    {
     "data": {
      "text/plain": [
       "True"
      ]
     },
     "execution_count": 104,
     "metadata": {},
     "output_type": "execute_result"
    }
   ],
   "source": [
    "p1 < p4"
   ]
  },
  {
   "cell_type": "code",
   "execution_count": 105,
   "metadata": {},
   "outputs": [
    {
     "ename": "TypeError",
     "evalue": "'<=' not supported between instances of 'Point' and 'Point'",
     "output_type": "error",
     "traceback": [
      "\u001b[0;31m---------------------------------------------------------------------------\u001b[0m",
      "\u001b[0;31mTypeError\u001b[0m                                 Traceback (most recent call last)",
      "\u001b[0;32m<ipython-input-105-56ddd3d9c363>\u001b[0m in \u001b[0;36m<module>\u001b[0;34m\u001b[0m\n\u001b[0;32m----> 1\u001b[0;31m \u001b[0mp1\u001b[0m \u001b[0;34m<=\u001b[0m \u001b[0mp4\u001b[0m\u001b[0;34m\u001b[0m\u001b[0;34m\u001b[0m\u001b[0m\n\u001b[0m",
      "\u001b[0;31mTypeError\u001b[0m: '<=' not supported between instances of 'Point' and 'Point'"
     ]
    }
   ],
   "source": [
    "p1 <= p4"
   ]
  },
  {
   "cell_type": "code",
   "execution_count": 106,
   "metadata": {},
   "outputs": [],
   "source": [
    "class Point: \n",
    "    def __init__(self, x, y): \n",
    "        self.x = x\n",
    "        self.y = y\n",
    "        \n",
    "    def __abs__(self): # will be able to call the abosolute function on a Point object \n",
    "        return sqrt(self.x ** 2 + self.y ** 2)\n",
    "    \n",
    "    def __repr__(self): \n",
    "        return 'Point({0}, {1})'.format(self.x, self.y)\n",
    "    \n",
    "    def __eq__(self, other): \n",
    "        if isinstance(other, Point): \n",
    "            return self.x == other.x and self.y == other.y \n",
    "        else: \n",
    "            return False \n",
    "        \n",
    "    def __lt__(self, other): \n",
    "        if isinstance(other, Point): \n",
    "            return abs(self) < abs(other)\n",
    "        else: \n",
    "            return NotImplemented \n",
    "        \n",
    "#     def __le__(self, other):     These are not neccessary, as you can build them up in __eq__ and __lt__ using Decorator\n",
    "#         pass                     Monkey Patch\n",
    "    \n",
    "#     def __gt__(self, other): \n",
    "#         pass \n",
    "    \n",
    "#     def __ge__(self, other): \n",
    "#         pass \n",
    "    \n",
    "#     def __ne__(self, other): \n",
    "#         pass "
   ]
  },
  {
   "cell_type": "markdown",
   "metadata": {},
   "source": [
    "## a <= b iff a < b or a == b \n",
    "## a >b iff not (a<b) and a != b\n",
    "## a>=b iff not(a<b) "
   ]
  },
  {
   "cell_type": "code",
   "execution_count": 116,
   "metadata": {},
   "outputs": [],
   "source": [
    "def complete_ordering(cls): \n",
    "    if '__eq__' in dir(cls) and '__lt__' in dir(cls): \n",
    "        cls.__le__ = lambda self, other: self < other or self == other\n",
    "        cls.__gt__ = lambda self, other: not (self < other) and not (self == other)\n",
    "        cls.__ge__ = lambda self, other: not (self < other)\n",
    "    return cls"
   ]
  },
  {
   "cell_type": "code",
   "execution_count": 117,
   "metadata": {},
   "outputs": [],
   "source": [
    "@complete_ordering\n",
    "class Point: \n",
    "    def __init__(self, x, y): \n",
    "        self.x = x\n",
    "        self.y = y\n",
    "        \n",
    "    def __abs__(self): # will be able to call the abosolute function on a Point object \n",
    "        return sqrt(self.x ** 2 + self.y ** 2)\n",
    "    \n",
    "    def __repr__(self): \n",
    "        return 'Point({0}, {1})'.format(self.x, self.y)\n",
    "    \n",
    "    def __eq__(self, other): \n",
    "        if isinstance(other, Point): \n",
    "            return self.x == other.x and self.y == other.y \n",
    "        else: \n",
    "            return False \n",
    "        \n",
    "    def __lt__(self, other): \n",
    "        if isinstance(other, Point): \n",
    "            return abs(self) < abs(other)\n",
    "        else: \n",
    "            return NotImplemented "
   ]
  },
  {
   "cell_type": "code",
   "execution_count": 118,
   "metadata": {},
   "outputs": [],
   "source": [
    "p1, p2, p3, p4 = Point(2,3), Point(2,3), Point(0,0), Point(100, 200)"
   ]
  },
  {
   "cell_type": "code",
   "execution_count": 119,
   "metadata": {},
   "outputs": [
    {
     "data": {
      "text/plain": [
       "True"
      ]
     },
     "execution_count": 119,
     "metadata": {},
     "output_type": "execute_result"
    }
   ],
   "source": [
    "p1 <= p4"
   ]
  },
  {
   "cell_type": "code",
   "execution_count": 120,
   "metadata": {},
   "outputs": [
    {
     "data": {
      "text/plain": [
       "True"
      ]
     },
     "execution_count": 120,
     "metadata": {},
     "output_type": "execute_result"
    }
   ],
   "source": [
    "p2 >= p2"
   ]
  },
  {
   "cell_type": "code",
   "execution_count": 121,
   "metadata": {},
   "outputs": [
    {
     "data": {
      "text/plain": [
       "False"
      ]
     },
     "execution_count": 121,
     "metadata": {},
     "output_type": "execute_result"
    }
   ],
   "source": [
    "p1 != p2"
   ]
  },
  {
   "cell_type": "code",
   "execution_count": 126,
   "metadata": {},
   "outputs": [],
   "source": [
    "from functools import total_ordering  # from standard library. It will figure out which comparison is missing and \n",
    "# will fill out the rest"
   ]
  },
  {
   "cell_type": "code",
   "execution_count": 127,
   "metadata": {},
   "outputs": [],
   "source": [
    "@total_ordering\n",
    "class Point: \n",
    "    def __init__(self, x, y): \n",
    "        self.x = x\n",
    "        self.y = y\n",
    "        \n",
    "    def __abs__(self): # will be able to call the abosolute function on a Point object \n",
    "        return sqrt(self.x ** 2 + self.y ** 2)\n",
    "    \n",
    "    def __repr__(self): \n",
    "        return 'Point({0}, {1})'.format(self.x, self.y)\n",
    "    \n",
    "    def __eq__(self, other): \n",
    "        if isinstance(other, Point): \n",
    "            return self.x == other.x and self.y == other.y \n",
    "        else: \n",
    "            return False \n",
    "        \n",
    "    def __lt__(self, other): \n",
    "        if isinstance(other, Point): \n",
    "            return abs(self) < abs(other)\n",
    "        else: \n",
    "            return NotImplemented "
   ]
  },
  {
   "cell_type": "code",
   "execution_count": 128,
   "metadata": {},
   "outputs": [],
   "source": [
    "p1, p2, p3, p4 = Point(2,3), Point(2,3), Point(0,0), Point(100, 200)\n"
   ]
  },
  {
   "cell_type": "code",
   "execution_count": 129,
   "metadata": {},
   "outputs": [
    {
     "data": {
      "text/plain": [
       "True"
      ]
     },
     "execution_count": 129,
     "metadata": {},
     "output_type": "execute_result"
    }
   ],
   "source": [
    "p1 <= p2 "
   ]
  },
  {
   "cell_type": "code",
   "execution_count": 130,
   "metadata": {},
   "outputs": [
    {
     "data": {
      "text/plain": [
       "True"
      ]
     },
     "execution_count": 130,
     "metadata": {},
     "output_type": "execute_result"
    }
   ],
   "source": [
    "p1 >= p2"
   ]
  },
  {
   "cell_type": "code",
   "execution_count": 131,
   "metadata": {},
   "outputs": [],
   "source": [
    "# complete_ordering is what we did to replicate total_ordering"
   ]
  },
  {
   "cell_type": "code",
   "execution_count": 132,
   "metadata": {},
   "outputs": [],
   "source": [
    "@total_ordering\n",
    "class Point: \n",
    "    def __init__(self, x, y): \n",
    "        self.x = x\n",
    "        self.y = y\n",
    "        \n",
    "    def __abs__(self): # will be able to call the abosolute function on a Point object \n",
    "        return sqrt(self.x ** 2 + self.y ** 2)\n",
    "    \n",
    "    def __repr__(self): \n",
    "        return 'Point({0}, {1})'.format(self.x, self.y)\n",
    "    \n",
    "    def __eq__(self, other): \n",
    "        if isinstance(other, Point): \n",
    "            return self.x == other.x and self.y == other.y \n",
    "        else: \n",
    "            return False \n",
    "        \n",
    "    def __gt__(self, other):      # we changed this part, and total_ordering just figured it out automatically \n",
    "        if isinstance(other, Point): \n",
    "            return abs(self) > abs(other)\n",
    "        else: \n",
    "            return NotImplemented "
   ]
  },
  {
   "cell_type": "code",
   "execution_count": 133,
   "metadata": {},
   "outputs": [],
   "source": [
    "p1, p2, p3, p4 = Point(2,3), Point(2,3), Point(0,0), Point(100, 200)\n"
   ]
  },
  {
   "cell_type": "code",
   "execution_count": 134,
   "metadata": {},
   "outputs": [
    {
     "data": {
      "text/plain": [
       "True"
      ]
     },
     "execution_count": 134,
     "metadata": {},
     "output_type": "execute_result"
    }
   ],
   "source": [
    "p4 > p1"
   ]
  },
  {
   "cell_type": "code",
   "execution_count": 136,
   "metadata": {},
   "outputs": [
    {
     "data": {
      "text/plain": [
       "False"
      ]
     },
     "execution_count": 136,
     "metadata": {},
     "output_type": "execute_result"
    }
   ],
   "source": [
    "p2 <= p3"
   ]
  },
  {
   "cell_type": "code",
   "execution_count": null,
   "metadata": {},
   "outputs": [],
   "source": []
  },
  {
   "cell_type": "code",
   "execution_count": null,
   "metadata": {},
   "outputs": [],
   "source": []
  }
 ],
 "metadata": {
  "kernelspec": {
   "display_name": "Python 3",
   "language": "python",
   "name": "python3"
  },
  "language_info": {
   "codemirror_mode": {
    "name": "ipython",
    "version": 3
   },
   "file_extension": ".py",
   "mimetype": "text/x-python",
   "name": "python",
   "nbconvert_exporter": "python",
   "pygments_lexer": "ipython3",
   "version": "3.8.2"
  }
 },
 "nbformat": 4,
 "nbformat_minor": 4
}
