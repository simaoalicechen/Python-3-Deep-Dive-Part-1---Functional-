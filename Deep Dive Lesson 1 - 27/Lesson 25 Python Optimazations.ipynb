{
 "cells": [
  {
   "cell_type": "code",
   "execution_count": null,
   "metadata": {},
   "outputs": [],
   "source": [
    "'''\n",
    "Important Note: \n",
    "\n",
    "A lt of what we discuss with memory management, garbage collection and optimizations, is usually specific to the Python implementation you use. \n",
    "\n",
    "In this course, we are using CPython, the standard(or reference) PYthon implementation(written in C). \n",
    "\n",
    "But there are other Python implementations out there. These include: \n",
    "\n",
    "Jython -- Written in Java and can import and use any java class - in fact it even compiels to java BYtecode which can then run in a JVM\n",
    "IronPYthon - this one is written in C# and targets .Net(and mono) CLR\n",
    "PyPy - this one is written in RPython(Which is itself a statically-typed subset of Python written in C that is sepcifically designed to write\n",
    "interpreters)\n",
    "and many more....\n",
    "\n",
    "http://wiki.python.org/moin/Pythonimplementations \n",
    "\n",
    "Earlier we saw: \n",
    "\n",
    "a = 10 \n",
    "b = 10 a and b share reference  ## should be,as integers are immutable??\n",
    "\n",
    "But look at this: \n",
    "a = 500\n",
    "b = 500 In this case, although it would be safe for Python to create a shared reference, it does not. \n",
    "\n",
    "\n",
    "What is going on? \n",
    "\n",
    "Interning: reusing objects on-demand\n",
    "At startup, Python(CPython), pre-loads (caches) a global list of integers in the range[-5, 256]\n",
    "Any time an integer is referenced in that range, Python will use the cached version of that object Singletons. \n",
    "\n",
    "Singletones, optimization strategy - small integers show up often \n",
    "\n",
    "When we write \n",
    "a = 10 \n",
    "Python just has to point to the existing reference for 10 \n",
    "But it we write \n",
    "a = 257\n",
    "Python does not use that global list and a new object is created every time \n",
    "\n",
    "'''"
   ]
  },
  {
   "cell_type": "code",
   "execution_count": 1,
   "metadata": {},
   "outputs": [
    {
     "data": {
      "text/plain": [
       "[-5, 256]"
      ]
     },
     "execution_count": 1,
     "metadata": {},
     "output_type": "execute_result"
    }
   ],
   "source": [
    "[-5, 256]"
   ]
  },
  {
   "cell_type": "code",
   "execution_count": 2,
   "metadata": {},
   "outputs": [],
   "source": [
    "a = 10"
   ]
  },
  {
   "cell_type": "code",
   "execution_count": 3,
   "metadata": {},
   "outputs": [],
   "source": [
    "b = 10"
   ]
  },
  {
   "cell_type": "code",
   "execution_count": 4,
   "metadata": {},
   "outputs": [
    {
     "data": {
      "text/plain": [
       "4527188928"
      ]
     },
     "execution_count": 4,
     "metadata": {},
     "output_type": "execute_result"
    }
   ],
   "source": [
    "id(a)"
   ]
  },
  {
   "cell_type": "code",
   "execution_count": 5,
   "metadata": {},
   "outputs": [
    {
     "data": {
      "text/plain": [
       "4527188928"
      ]
     },
     "execution_count": 5,
     "metadata": {},
     "output_type": "execute_result"
    }
   ],
   "source": [
    "id(b)"
   ]
  },
  {
   "cell_type": "code",
   "execution_count": 6,
   "metadata": {},
   "outputs": [],
   "source": [
    "a = - 5\n",
    "b = - 5 "
   ]
  },
  {
   "cell_type": "code",
   "execution_count": 7,
   "metadata": {},
   "outputs": [
    {
     "name": "stdout",
     "output_type": "stream",
     "text": [
      "4527188448 4527188448\n"
     ]
    }
   ],
   "source": [
    "print(id(a), id(b))"
   ]
  },
  {
   "cell_type": "code",
   "execution_count": 8,
   "metadata": {},
   "outputs": [
    {
     "data": {
      "text/plain": [
       "True"
      ]
     },
     "execution_count": 8,
     "metadata": {},
     "output_type": "execute_result"
    }
   ],
   "source": [
    "a is b"
   ]
  },
  {
   "cell_type": "code",
   "execution_count": 11,
   "metadata": {},
   "outputs": [
    {
     "data": {
      "text/plain": [
       "True"
      ]
     },
     "execution_count": 11,
     "metadata": {},
     "output_type": "execute_result"
    }
   ],
   "source": [
    "a == 256\n",
    "b == 256\n",
    "a is b "
   ]
  },
  {
   "cell_type": "code",
   "execution_count": 12,
   "metadata": {},
   "outputs": [
    {
     "data": {
      "text/plain": [
       "False"
      ]
     },
     "execution_count": 12,
     "metadata": {},
     "output_type": "execute_result"
    }
   ],
   "source": [
    "a = 257\n",
    "b = 257\n",
    "a is b"
   ]
  },
  {
   "cell_type": "code",
   "execution_count": 13,
   "metadata": {},
   "outputs": [],
   "source": [
    "a = 10"
   ]
  },
  {
   "cell_type": "code",
   "execution_count": 14,
   "metadata": {},
   "outputs": [],
   "source": [
    "b = int(10)"
   ]
  },
  {
   "cell_type": "code",
   "execution_count": 15,
   "metadata": {},
   "outputs": [],
   "source": [
    "c = int('10')"
   ]
  },
  {
   "cell_type": "code",
   "execution_count": 17,
   "metadata": {},
   "outputs": [],
   "source": [
    "d = int('1010', 2)"
   ]
  },
  {
   "cell_type": "code",
   "execution_count": 18,
   "metadata": {},
   "outputs": [
    {
     "name": "stdout",
     "output_type": "stream",
     "text": [
      "10 10 10 10\n"
     ]
    }
   ],
   "source": [
    "print(a,b,c,d)"
   ]
  },
  {
   "cell_type": "code",
   "execution_count": 20,
   "metadata": {},
   "outputs": [
    {
     "name": "stdout",
     "output_type": "stream",
     "text": [
      "4527188928 4527188928 4527188928 4527188928\n"
     ]
    }
   ],
   "source": [
    "print(id(a), id(b), id(c), id(d)) # doesn't matter how we created 10, as long as it is 10"
   ]
  }
 ],
 "metadata": {
  "kernelspec": {
   "display_name": "Python 3",
   "language": "python",
   "name": "python3"
  },
  "language_info": {
   "codemirror_mode": {
    "name": "ipython",
    "version": 3
   },
   "file_extension": ".py",
   "mimetype": "text/x-python",
   "name": "python",
   "nbconvert_exporter": "python",
   "pygments_lexer": "ipython3",
   "version": "3.8.2"
  }
 },
 "nbformat": 4,
 "nbformat_minor": 4
}
