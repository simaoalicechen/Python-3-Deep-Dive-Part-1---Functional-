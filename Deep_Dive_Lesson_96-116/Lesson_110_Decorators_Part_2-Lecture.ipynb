{
 "cells": [
  {
   "cell_type": "markdown",
   "metadata": {},
   "source": [
    "Decorator Parameters"
   ]
  },
  {
   "cell_type": "markdown",
   "metadata": {},
   "source": [
    "In the previous videos we saw some built in decorators that can handle some arguments: \n",
    "\n",
    "@wraps(fn): ----> This is a function call\n",
    "def inner(): \n",
    "\n",
    "@lru_cache(maxsize = 256)     --> this is a function call \n",
    "def factorial(n): \n",
    "\n",
    "\n",
    "This should look quite different from teh decorators we have been creating and using: \n",
    "\n",
    "@timed            ---> not a function call (our decorator) \n",
    "def fibonacci(n): \n",
    "    ....\n",
    "    \n",
    "@timed\n",
    "def my_func(): \n",
    "\n",
    "or \n",
    "\n",
    "my_func = timed(my_func) \n",
    "\n",
    "\n",
    "Another approach to avoid hard coded values: \n",
    "\n",
    "my_func = timed(my_func, 10)  \n",
    "\n",
    "@timed(10) \n",
    "def my_func(): \n",
    "\n",
    "timed is a function that returns that inner closure that contains our original function \n",
    "\n",
    "in order for this to work as intended: \n",
    "\n",
    "@timed(10) \n",
    "def my_func(): \n",
    "    ... \n",
    "    \n",
    "decorator factories \n",
    "The outer function is not itself a decorator \n",
    "instead  it returns a decorator when called \n",
    "\n",
    "and any arguments passed to outer can be referenced ( as free variables) inside our decorator \n",
    "\n",
    "We call this outer function a decorator factory function (it is a function that creates a new decorator each \n",
    "time it is called). \n",
    "\n",
    "To wrap things up, we probably don't need decorator call to look like this: \n",
    "\n",
    "@outer(10) \n",
    "def my_func(): \n",
    "\n",
    "It would make more sense to write it this way: \n",
    "@timed(10) \n",
    "def my_func(): \n",
    "... \n",
    "\n",
    "All we need to do is change the names of the outer and timed functions \n",
    "\n"
   ]
  }
 ],
 "metadata": {
  "kernelspec": {
   "display_name": "Python 3",
   "language": "python",
   "name": "python3"
  },
  "language_info": {
   "codemirror_mode": {
    "name": "ipython",
    "version": 3
   },
   "file_extension": ".py",
   "mimetype": "text/x-python",
   "name": "python",
   "nbconvert_exporter": "python",
   "pygments_lexer": "ipython3",
   "version": "3.8.2"
  }
 },
 "nbformat": 4,
 "nbformat_minor": 4
}
